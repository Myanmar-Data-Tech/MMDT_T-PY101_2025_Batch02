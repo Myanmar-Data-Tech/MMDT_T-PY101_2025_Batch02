{
  "nbformat": 4,
  "nbformat_minor": 0,
  "metadata": {
    "colab": {
      "provenance": [],
      "include_colab_link": true
    },
    "kernelspec": {
      "name": "python3",
      "display_name": "Python 3"
    },
    "language_info": {
      "name": "python"
    }
  },
  "cells": [
    {
      "cell_type": "markdown",
      "metadata": {
        "id": "view-in-github",
        "colab_type": "text"
      },
      "source": [
        "<a href=\"https://colab.research.google.com/github/NayMon911/MMDT_T-PY101_2025_Batch02/blob/main/NayMon/Ex3_ConditionEx_NM.ipynb\" target=\"_parent\"><img src=\"https://colab.research.google.com/assets/colab-badge.svg\" alt=\"Open In Colab\"/></a>"
      ]
    },
    {
      "cell_type": "markdown",
      "source": [
        "Write a program that asks the user to enter a length in centimeters. If the user enters a negative length, the program should tell the user that the entry is invalid. Otherwise, the program should convert the length to inches and print out the result. There are 2.54 centimeters in an inch.\n"
      ],
      "metadata": {
        "id": "r9njLbxcvG0w"
      }
    },
    {
      "cell_type": "code",
      "source": [
        "length_cm = float(input(\"Enter the length in cm: \"))\n",
        "if length_cm < 0:\n",
        "  print(\"The entry is invalid\")\n",
        "else:\n",
        "  length_inch = length_cm / 2.54\n",
        "  print(\"Length in inches is \",length_inch)"
      ],
      "metadata": {
        "id": "76EFWr1AvMy4",
        "colab": {
          "base_uri": "https://localhost:8080/"
        },
        "outputId": "c9b9e369-3179-4171-fa1f-5138bbb9aff4"
      },
      "execution_count": null,
      "outputs": [
        {
          "output_type": "stream",
          "name": "stdout",
          "text": [
            "Enter the length in cm: 2.54\n",
            "Length in inches is  1.0\n"
          ]
        }
      ]
    },
    {
      "cell_type": "markdown",
      "source": [
        "Ask the user to enter a temperature in Celsius. The program should print a message based on the temperature:\n",
        "\n",
        "*   If the temperature is less than -273.15, print that the temperature is invalid because it is below absolute zero.\n",
        "*   If it is exactly -273.15, print that the temperature is absolute 0.\n",
        "*   If the temperature is between -273.15 and 0, print that the temperature is below freezing.\n",
        "*   If it is 0, print that the temperature is at the freezing point.\n",
        "*   If it is between 0 and 100, print that the temperature is in the normal range.\n",
        "*   If it is 100, print that the temperature is at the boiling point.\n",
        "*   If it is above 100, print that the temperature is above the boiling point."
      ],
      "metadata": {
        "id": "zvaDTmuhvNWJ"
      }
    },
    {
      "cell_type": "code",
      "source": [
        "temp = float(input(\"Enter the temperature in Celsius: \"))\n",
        "if temp < -273.15:\n",
        "  print(\"the temperature is invalid because it is below absolute zero\")\n",
        "elif temp == -273.15:\n",
        "  print(\"the temperature is ablolute 0\")\n",
        "elif (temp > -273.15 and temp < 0):\n",
        "  print(\"the temperature is below freezing\")\n",
        "elif temp == 0:\n",
        "  print(\"the temperature is at the freezing point\")\n",
        "elif (temp>0 and temp<100):\n",
        "  print(\"the temperature is in the normal range\")\n",
        "elif temp == 100:\n",
        "  print(\"the temperature is at the boiling point\")\n",
        "else:\n",
        "  print(\"the temperature is above the boiling point\")"
      ],
      "metadata": {
        "id": "UiCbUIcwvqxO",
        "colab": {
          "base_uri": "https://localhost:8080/"
        },
        "outputId": "38023ee6-8268-43f6-f9c2-dcad9f1613ea"
      },
      "execution_count": null,
      "outputs": [
        {
          "output_type": "stream",
          "name": "stdout",
          "text": [
            "Enter the temperature in Celsius: 101\n",
            "the temperature is above the boiling point\n"
          ]
        }
      ]
    },
    {
      "cell_type": "markdown",
      "source": [
        "Write a program that asks the user how many credits they have taken. If they have taken 23 or less, print that the student is a freshman. If they have taken between 24 and 53, print that they are a sophomore. The range for juniors is 54 to 83, and for seniors it is 84 and over."
      ],
      "metadata": {
        "id": "hoczytNLvrnd"
      }
    },
    {
      "cell_type": "code",
      "source": [
        "credits = int(input(\"Enter your credits: \"))\n",
        "if credits <= 23:\n",
        "  print(\"Your are a freshman\")\n",
        "elif (credits>=24 and credits<=53):\n",
        "  print(\"You are a sophomore\")\n",
        "elif (credits>=54 and credits<=83):\n",
        "  print(\"You are a junior\")\n",
        "else:\n",
        "  print(\"You are a senior\")\n"
      ],
      "metadata": {
        "id": "r8_O-_zLvurf",
        "colab": {
          "base_uri": "https://localhost:8080/"
        },
        "outputId": "fa8b0b35-bb56-472e-97a1-7d7b4e270e00"
      },
      "execution_count": null,
      "outputs": [
        {
          "output_type": "stream",
          "name": "stdout",
          "text": [
            "Enter your credits: 84\n",
            "You are a senior\n"
          ]
        }
      ]
    }
  ]
}