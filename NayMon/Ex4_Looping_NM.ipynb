{
  "cells": [
    {
      "cell_type": "markdown",
      "metadata": {
        "id": "view-in-github",
        "colab_type": "text"
      },
      "source": [
        "<a href=\"https://colab.research.google.com/github/NayMon911/MMDT_T-PY101_2025_Batch02/blob/main/NayMon/Ex4_Looping_NM.ipynb\" target=\"_parent\"><img src=\"https://colab.research.google.com/assets/colab-badge.svg\" alt=\"Open In Colab\"/></a>"
      ]
    },
    {
      "cell_type": "markdown",
      "metadata": {
        "id": "YeTHwB3EASGn"
      },
      "source": [
        "The exercises are extracted from A_Practical_Introduction_to_Python_Programming_Heinold.pdf"
      ]
    },
    {
      "cell_type": "markdown",
      "metadata": {
        "id": "wVOW5QDgAZ_R"
      },
      "source": [
        "Ex 1: Write a program that uses a while loop (not a for loop) to read through a string and print\n",
        "the characters of the string one-by-one on separate lines."
      ]
    },
    {
      "cell_type": "code",
      "execution_count": null,
      "metadata": {
        "id": "77KGqP-sJJNh",
        "colab": {
          "base_uri": "https://localhost:8080/"
        },
        "collapsed": true,
        "outputId": "d3383cf5-2725-44c6-dc67-579e369211be"
      },
      "outputs": [
        {
          "output_type": "stream",
          "name": "stdout",
          "text": [
            "Enter a string: hello\n",
            "h\n",
            "e\n",
            "l\n",
            "l\n",
            "o\n"
          ]
        }
      ],
      "source": [
        "string = input(\"Enter a string: \")\n",
        "i = 0\n",
        "while i < len(string):\n",
        "  print(string[i])\n",
        "  i = i+1\n"
      ]
    },
    {
      "cell_type": "markdown",
      "metadata": {
        "id": "5B-LyYV0AkCK"
      },
      "source": [
        "Ex 2: A good program will make sure that the data its users enter is valid. Write a program that\n",
        "asks the user for a weight and converts it from kilograms to pounds. Whenever the user\n",
        "enters a weight below 0, the program should tell them that their entry is invalid and then ask\n",
        "them again to enter a weight. [Hint: Use a while loop, not an if statement]."
      ]
    },
    {
      "cell_type": "code",
      "execution_count": null,
      "metadata": {
        "id": "gpRZnsXjArkF",
        "colab": {
          "base_uri": "https://localhost:8080/"
        },
        "outputId": "3c8d4f21-edec-4b11-d625-26a0e1a87f33"
      },
      "outputs": [
        {
          "output_type": "stream",
          "name": "stdout",
          "text": [
            "Enter your weight in kg: -60\n",
            "Your number is invalid. Please Enter again: 60\n",
            "Your weight in lb:  132.0\n"
          ]
        }
      ],
      "source": [
        "kg = int(input(\"Enter your weight in kg: \"))\n",
        "while kg<0:\n",
        "  kg = eval(input(\"Your number is invalid. Please Enter again: \"))\n",
        "else:\n",
        "  lb = kg*2.2\n",
        "  print(\"Your weight in lb: \",lb)\n"
      ]
    },
    {
      "cell_type": "markdown",
      "metadata": {
        "id": "zQT0pCjRAsIK"
      },
      "source": [
        "Ex 3: Write a program that allows the user to enter any number of test scores. The user indicates\n",
        "they are done by entering in a negative number. Print how many of the scores are A’s (90 or\n",
        "above). Also print out the average"
      ]
    },
    {
      "cell_type": "code",
      "execution_count": null,
      "metadata": {
        "id": "Gya-rvYUAviK",
        "colab": {
          "base_uri": "https://localhost:8080/"
        },
        "outputId": "b710afa4-0ab6-4002-891d-885d1f2ce6d6"
      },
      "outputs": [
        {
          "output_type": "stream",
          "name": "stdout",
          "text": [
            "Enter scores: 95\n",
            "Enter scores: 80\n",
            "Enter scores: 60\n",
            "Enter scores: -10\n",
            "You got 1 A\n",
            "Your Average Score is  78.33333333333333\n"
          ]
        }
      ],
      "source": [
        "scores = 0\n",
        "count_scores = 0\n",
        "Total_scores = 0\n",
        "count_A = 0\n",
        "\n",
        "while scores >= 0:\n",
        "  scores = int(input(\"Enter scores: \"))\n",
        "  if scores <0:\n",
        "    break\n",
        "  Total_scores = Total_scores+scores\n",
        "  count_scores = count_scores+1\n",
        "  if scores > 90:\n",
        "    count_A = count_A +1\n",
        "\n",
        "print(f\"You got {count_A} A\")\n",
        "print(\"Your Average Score is \",Total_scores/count_scores)\n",
        "\n"
      ]
    },
    {
      "cell_type": "markdown",
      "metadata": {
        "id": "IHIWc5jHAwxY"
      },
      "source": [
        "Ex 4: Write a program that asks the user for a string and a letter. Using a for loop, the\n",
        "program should print the index of the first occurrence of that letter and a message if the\n",
        "string does not contain the letter."
      ]
    },
    {
      "cell_type": "code",
      "execution_count": null,
      "metadata": {
        "id": "xSe0mtQ8A68M",
        "colab": {
          "base_uri": "https://localhost:8080/"
        },
        "outputId": "deb4214c-af06-4778-de94-463751c28643"
      },
      "outputs": [
        {
          "output_type": "stream",
          "name": "stdout",
          "text": [
            "Enter a string: hello\n",
            "Choose Letter: n\n",
            "The string does not contain the letter\n"
          ]
        }
      ],
      "source": [
        "string = input(\"Enter a string: \")\n",
        "letter = input(\"Choose Letter: \")\n",
        "for i in range(len(string)):\n",
        "  if letter == string[i]:\n",
        "    print(i)\n",
        "    break\n",
        "else:\n",
        "  print(\"The string does not contain the letter\")\n"
      ]
    },
    {
      "cell_type": "markdown",
      "metadata": {
        "id": "PfyUq4CnA8vk"
      },
      "source": [
        "Ex 5: Write a program in which you have a list that contains seven integers that can be 0 or 1. Find the first zero entry in the list and change it to a 1. If there are no zero entries, print a message saying so."
      ]
    },
    {
      "cell_type": "code",
      "source": [
        "list = [1,0,0,1,0,0,1]\n",
        "for i in range(len(list)):\n",
        "  if list[i] == 0:\n",
        "    list[i] = 1\n",
        "    break\n",
        "else:\n",
        "  print(\"There is no Zero\")\n",
        "print(\"Updated list:\",list)"
      ],
      "metadata": {
        "colab": {
          "base_uri": "https://localhost:8080/"
        },
        "id": "PuYwdLsETfCh",
        "outputId": "7ea260ad-5502-45ed-86f9-a227e33328f0"
      },
      "execution_count": null,
      "outputs": [
        {
          "output_type": "stream",
          "name": "stdout",
          "text": [
            "Updated list: [1, 1, 0, 1, 0, 0, 1]\n"
          ]
        }
      ]
    }
  ],
  "metadata": {
    "colab": {
      "provenance": [],
      "include_colab_link": true
    },
    "kernelspec": {
      "display_name": "Python 3",
      "name": "python3"
    },
    "language_info": {
      "codemirror_mode": {
        "name": "ipython",
        "version": 3
      },
      "file_extension": ".py",
      "mimetype": "text/x-python",
      "name": "python",
      "nbconvert_exporter": "python",
      "pygments_lexer": "ipython3",
      "version": "3.12.1"
    }
  },
  "nbformat": 4,
  "nbformat_minor": 0
}