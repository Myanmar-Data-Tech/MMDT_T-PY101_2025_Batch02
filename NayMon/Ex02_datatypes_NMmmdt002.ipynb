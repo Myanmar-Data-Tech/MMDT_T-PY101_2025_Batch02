{
  "cells": [
    {
      "cell_type": "markdown",
      "metadata": {
        "id": "view-in-github"
      },
      "source": [
        "<a href=\"https://colab.research.google.com/github/myothida/PythonProgramming/blob/main/Ex_2_datatypes.ipynb\" target=\"_parent\"><img src=\"https://colab.research.google.com/assets/colab-badge.svg\" alt=\"Open In Colab\"/></a>"
      ]
    },
    {
      "cell_type": "markdown",
      "metadata": {
        "id": "X_Unw3z9u2-7"
      },
      "source": [
        "Ex 1 : Check the lenght of the string \"My name is python\""
      ]
    },
    {
      "cell_type": "code",
      "execution_count": null,
      "metadata": {
        "colab": {
          "base_uri": "https://localhost:8080/"
        },
        "id": "Xbivv1s7dOi3",
        "outputId": "b4f553a6-7cb2-415d-e8fb-6a2c2bbc9c63"
      },
      "outputs": [
        {
          "output_type": "execute_result",
          "data": {
            "text/plain": [
              "17"
            ]
          },
          "metadata": {},
          "execution_count": 2
        }
      ],
      "source": [
        "len(\"My name is python\")"
      ]
    },
    {
      "cell_type": "markdown",
      "metadata": {
        "id": "yRCNga1GdOi4"
      },
      "source": [
        "Ex 2: Check the number of times \"python\" (regardless of cases: PYTHON, python, Python\" appears in the paragraph : \"Floating-point values in Python are always done in double precision; hence, Python float types correspond to doubles in a C-like language.\""
      ]
    },
    {
      "cell_type": "code",
      "execution_count": null,
      "metadata": {
        "colab": {
          "base_uri": "https://localhost:8080/"
        },
        "id": "epFtlCs_dOi5",
        "outputId": "1a52f571-742a-4def-89ec-aa614e28842d"
      },
      "outputs": [
        {
          "output_type": "execute_result",
          "data": {
            "text/plain": [
              "2"
            ]
          },
          "metadata": {},
          "execution_count": 29
        }
      ],
      "source": [
        "s = \"Floating-point values in Python are always done in double precision; hence, Python float types correspond to doubles in a C-like language.\"\n",
        "sl = s.lower()\n",
        "sl.count(\"python\")\n"
      ]
    },
    {
      "cell_type": "markdown",
      "metadata": {
        "id": "Dh88AMmJdOi6"
      },
      "source": [
        "Ex 3: Combine two lists : ls1 = [\"apple\", \"banana\", \"cherry\"] and ls2 = [\"apple\", \"banana\", \"cherry\", \"apple\", \"cherry\"]. Print the number of elements in new list."
      ]
    },
    {
      "cell_type": "code",
      "execution_count": null,
      "metadata": {
        "colab": {
          "base_uri": "https://localhost:8080/"
        },
        "id": "cA40oVqAdOi7",
        "outputId": "f9ebf52d-5548-4d9a-ff7d-f01d16392454"
      },
      "outputs": [
        {
          "output_type": "stream",
          "name": "stdout",
          "text": [
            "['apple', 'banana', 'cherry', 'apple', 'banana', 'cherry', 'apple', 'cherry']\n"
          ]
        }
      ],
      "source": [
        "ls1 = [\"apple\",\"banana\",\"cherry\"]\n",
        "ls2 = [\"apple\",\"banana\",\"cherry\",\"apple\",\"cherry\"]\n",
        "new_list = ls1+ls2\n",
        "print(new_list)"
      ]
    },
    {
      "cell_type": "markdown",
      "metadata": {
        "id": "Mswg2VIydOi7"
      },
      "source": [
        "Ex 4: Create a dictionary for the following table:"
      ]
    },
    {
      "cell_type": "markdown",
      "metadata": {
        "id": "T9uAK9Q7dOi8"
      },
      "source": [
        "| Name | Age |\n",
        "| --- | --- |\n",
        "| Myo | 32 |\n",
        "| Thida | 64 |"
      ]
    },
    {
      "cell_type": "code",
      "execution_count": null,
      "metadata": {
        "id": "q2CE72zmdOi9",
        "colab": {
          "base_uri": "https://localhost:8080/"
        },
        "outputId": "e7c74194-108f-434c-b3e5-370111190c5a"
      },
      "outputs": [
        {
          "output_type": "stream",
          "name": "stdout",
          "text": [
            "{'Name': ['Myo', 'Thida'], 'Age': [32, 64]}\n"
          ]
        }
      ],
      "source": [
        "from typing import KeysView\n",
        "A_dict = {\"Name\":[\"Myo\",\"Thida\"],\"Age\":[32,64]}\n",
        "print(A_dict)"
      ]
    },
    {
      "cell_type": "markdown",
      "metadata": {
        "id": "vkWtLFoYdOi9"
      },
      "source": [
        "Ex 5: Combine two sets and print the combined set and its length.\n",
        "set1 = {\"Name\", \"age\", \"Height\"}\n",
        "set2 = {\"Name\", \"status\", \"Education\"}"
      ]
    },
    {
      "cell_type": "code",
      "execution_count": null,
      "metadata": {
        "colab": {
          "base_uri": "https://localhost:8080/"
        },
        "id": "pyF9vYgzdOi9",
        "outputId": "caba92b8-8764-42c0-ded0-fed2f2bcbee9"
      },
      "outputs": [
        {
          "output_type": "stream",
          "name": "stdout",
          "text": [
            "{'status', 'Name', 'Education', 'age', 'Height'}\n"
          ]
        },
        {
          "output_type": "execute_result",
          "data": {
            "text/plain": [
              "5"
            ]
          },
          "metadata": {},
          "execution_count": 22
        }
      ],
      "source": [
        "set1 = {\"Name\",\"age\",\"Height\"}\n",
        "set2 = {\"Name\",\"status\",\"Education\"}\n",
        "Two_set = set1.union(set2)\n",
        "print(Two_set)\n",
        "len(Two_set)"
      ]
    },
    {
      "cell_type": "markdown",
      "metadata": {
        "id": "3nRY9e5adOi-"
      },
      "source": [
        "Ex 6: Write a program that asks the user to enter a string. The program should create a new string called new_string from the user's string such that the second character is changed to an asterisk and three exclamation points are attached to the end of the string. Finally, print new_string."
      ]
    },
    {
      "cell_type": "code",
      "execution_count": null,
      "metadata": {
        "colab": {
          "base_uri": "https://localhost:8080/"
        },
        "id": "rqVrjlP9dOi-",
        "outputId": "3aefaae1-5c0f-489c-80e8-e8edb2a08b92"
      },
      "outputs": [
        {
          "output_type": "stream",
          "name": "stdout",
          "text": [
            "Enter a string: Nay\n",
            "N*y!!!\n"
          ]
        }
      ],
      "source": [
        "StringA = input(\"Enter a string: \")\n",
        "new_string = StringA.replace(StringA[1],\"*\") + 3*\"!\"\n",
        "print(new_string)"
      ]
    },
    {
      "cell_type": "markdown",
      "metadata": {
        "id": "XVANriiYdOi-"
      },
      "source": [
        "Ex 7: Write a program that converts the given string 's' to lowercase, removes all Punctuation marks such as period, hyphen, and commas from 's', and prints the resulting string."
      ]
    },
    {
      "cell_type": "code",
      "execution_count": null,
      "metadata": {
        "colab": {
          "base_uri": "https://localhost:8080/"
        },
        "id": "0QgekxG-dOi_",
        "outputId": "167e6003-d9d0-4d44-b4a9-7cbc746129ee"
      },
      "outputs": [
        {
          "output_type": "stream",
          "name": "stdout",
          "text": [
            "floating point values in python are always done in double precision  hence  python float types correspond to doubles in a c like language.\n"
          ]
        }
      ],
      "source": [
        "s = \"Floating-point values in Python are always done in double precision; hence, Python float types correspond to doubles in a C-like language.\"\n",
        "sl = s.lower()\n",
        "sr1 = sl.replace(\";\",\" \")\n",
        "sr2 = sr1.replace(\"-\",\" \")\n",
        "sr3 = sr2.replace(\",\",\" \")\n",
        "print(sr3)\n",
        "\n",
        "\n",
        "\n"
      ]
    },
    {
      "cell_type": "markdown",
      "metadata": {
        "id": "Zbijd6K3dOi_"
      },
      "source": [
        "Ex 8: L1 and L2 should be identical. Write a program that finds the missing number in L2."
      ]
    },
    {
      "cell_type": "code",
      "execution_count": 1,
      "metadata": {
        "id": "wbbl7BNSdOi_",
        "colab": {
          "base_uri": "https://localhost:8080/"
        },
        "outputId": "1b8434cb-d06c-4c40-b439-ba3329882d61"
      },
      "outputs": [
        {
          "output_type": "stream",
          "name": "stdout",
          "text": [
            "{4}\n"
          ]
        }
      ],
      "source": [
        "from random import randint\n",
        "L1 = list(range(1,101))\n",
        "L2 = L1.copy()\n",
        "L2.remove(randint(1,101))\n",
        "\n",
        "L1_set = set(L1)\n",
        "L2_set = set(L2)\n",
        "Missing_Number = L1_set.difference(L2_set)\n",
        "print(Missing_Number)\n"
      ]
    },
    {
      "cell_type": "markdown",
      "metadata": {
        "id": "-crr5h7VdOi_"
      },
      "source": [
        "Ex 9: Write a program to copy the ls1 = [\"apple\", \"banana\", \"cherry\"] to a new list. Add the element \"blueberry\" to the new list, but keep the original list the same."
      ]
    },
    {
      "cell_type": "code",
      "execution_count": null,
      "metadata": {
        "id": "jBFK9a25dOjA",
        "colab": {
          "base_uri": "https://localhost:8080/"
        },
        "outputId": "00bab6de-6cef-420c-f0b0-3226ccbac9fd"
      },
      "outputs": [
        {
          "output_type": "stream",
          "name": "stdout",
          "text": [
            "['apple', 'banana', 'cherry', 'blueberry']\n",
            "['apple', 'banana', 'cherry']\n"
          ]
        }
      ],
      "source": [
        "ls1 = [\"apple\",\"banana\",\"cherry\"]\n",
        "ls2 = ls1.copy()\n",
        "ls3 = [\"blueberry\"]\n",
        "ls_new = ls2 + ls3\n",
        "print(ls_new)\n",
        "print(ls1)"
      ]
    }
  ],
  "metadata": {
    "colab": {
      "provenance": []
    },
    "kernelspec": {
      "display_name": "Python 3",
      "language": "python",
      "name": "python3"
    },
    "language_info": {
      "codemirror_mode": {
        "name": "ipython",
        "version": 3
      },
      "file_extension": ".py",
      "mimetype": "text/x-python",
      "name": "python",
      "nbconvert_exporter": "python",
      "pygments_lexer": "ipython3",
      "version": "3.12.1"
    }
  },
  "nbformat": 4,
  "nbformat_minor": 0
}