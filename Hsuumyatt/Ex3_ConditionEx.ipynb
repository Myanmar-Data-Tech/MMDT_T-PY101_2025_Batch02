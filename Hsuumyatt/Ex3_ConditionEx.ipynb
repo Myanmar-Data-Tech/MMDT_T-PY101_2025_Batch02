{
  "nbformat": 4,
  "nbformat_minor": 0,
  "metadata": {
    "colab": {
      "name": "Ex3_ConditionEx.ipynb",
      "provenance": [],
      "include_colab_link": true
    },
    "kernelspec": {
      "name": "python3",
      "display_name": "Python 3"
    },
    "language_info": {
      "name": "python"
    }
  },
  "cells": [
    {
      "cell_type": "markdown",
      "metadata": {
        "id": "view-in-github",
        "colab_type": "text"
      },
      "source": [
        "<a href=\"https://colab.research.google.com/github/Hsuumyatt/MMDT_T-PY101_2025_Batch02/blob/main/Hsuumyatt/Ex3_ConditionEx.ipynb\" target=\"_parent\"><img src=\"https://colab.research.google.com/assets/colab-badge.svg\" alt=\"Open In Colab\"/></a>"
      ]
    },
    {
      "cell_type": "markdown",
      "source": [
        "Write a program that asks the user to enter a length in centimeters. If the user enters a negative length, the program should tell the user that the entry is invalid. Otherwise, the program should convert the length to inches and print out the result. There are 2.54 centimeters in an inch.\n"
      ],
      "metadata": {
        "id": "r9njLbxcvG0w"
      }
    },
    {
      "cell_type": "code",
      "source": [
        "cm = float(input(\"Enter a length in centimeters: \"))\n",
        "if cm < 0:\n",
        "    print(\"Invalid entry. Length cannot be negative.\")\n",
        "else:\n",
        "\n",
        "    inches = cm / 2.54\n",
        "    print(f\"{cm} centimeters is equal to {inches:.2f} inches.\")"
      ],
      "metadata": {
        "id": "76EFWr1AvMy4",
        "outputId": "a5029c4f-337d-478d-ca5b-5735d87e9cbb",
        "colab": {
          "base_uri": "https://localhost:8080/"
        }
      },
      "execution_count": 4,
      "outputs": [
        {
          "output_type": "stream",
          "name": "stdout",
          "text": [
            "Enter a length in centimeters: 23\n",
            "23.0 centimeters is equal to 9.06 inches.\n"
          ]
        }
      ]
    },
    {
      "cell_type": "markdown",
      "source": [
        "Ask the user to enter a temperature in Celsius. The program should print a message based on the temperature:\n",
        "\n",
        "*   If the temperature is less than -273.15, print that the temperature is invalid because it is below absolute zero.\n",
        "*   If it is exactly -273.15, print that the temperature is absolute 0.\n",
        "*   If the temperature is between -273.15 and 0, print that the temperature is below freezing.\n",
        "*   If it is 0, print that the temperature is at the freezing point.\n",
        "*   If it is between 0 and 100, print that the temperature is in the normal range.\n",
        "*   If it is 100, print that the temperature is at the boiling point.\n",
        "*   If it is above 100, print that the temperature is above the boiling point."
      ],
      "metadata": {
        "id": "zvaDTmuhvNWJ"
      }
    },
    {
      "cell_type": "code",
      "source": [
        "\n",
        "temp = float(input(\"Enter a temperature in Celsius: \"))\n",
        "\n",
        "\n",
        "if temp < -273.15:\n",
        "    print(\"The temperature is invalid because it is below absolute zero.\")\n",
        "elif temp == -273.15:\n",
        "    print(\"The temperature is absolute zero.\")\n",
        "elif temp < 0:\n",
        "    print(\"The temperature is below freezing.\")\n",
        "elif temp == 0:\n",
        "    print(\"The temperature is at the freezing point.\")\n",
        "elif temp < 100:\n",
        "    print(\"The temperature is in the normal range.\")\n",
        "elif temp == 100:\n",
        "    print(\"The temperature is at the boiling point.\")\n",
        "else:\n",
        "    print(\"The temperature is above the boiling point.\")"
      ],
      "metadata": {
        "id": "UiCbUIcwvqxO",
        "outputId": "3f8c1ede-cd0e-482b-ba46-64991f38ea77",
        "colab": {
          "base_uri": "https://localhost:8080/"
        }
      },
      "execution_count": 5,
      "outputs": [
        {
          "output_type": "stream",
          "name": "stdout",
          "text": [
            "Enter a temperature in Celsius: 99\n",
            "The temperature is in the normal range.\n"
          ]
        }
      ]
    },
    {
      "cell_type": "markdown",
      "source": [
        "Write a program that asks the user how many credits they have taken. If they have taken 23 or less, print that the student is a freshman. If they have taken between 24 and 53, print that they are a sophomore. The range for juniors is 54 to 83, and for seniors it is 84 and over."
      ],
      "metadata": {
        "id": "hoczytNLvrnd"
      }
    },
    {
      "cell_type": "code",
      "source": [
        "\n",
        "credits = int(input(\"Enter the number of credits you have taken: \"))\n",
        "\n",
        "\n",
        "if credits <= 23:\n",
        "    print(\"You are a Freshman.\")\n",
        "elif credits <= 53:\n",
        "    print(\"You are a Sophomore.\")\n",
        "elif credits <= 83:\n",
        "    print(\"You are a Junior.\")\n",
        "else:\n",
        "    print(\"You are a Senior.\")"
      ],
      "metadata": {
        "id": "r8_O-_zLvurf",
        "outputId": "47a57fdc-f2fb-4c54-8502-9f23b9f03857",
        "colab": {
          "base_uri": "https://localhost:8080/"
        }
      },
      "execution_count": 6,
      "outputs": [
        {
          "output_type": "stream",
          "name": "stdout",
          "text": [
            "Enter the number of credits you have taken: 23\n",
            "You are a Freshman.\n"
          ]
        }
      ]
    }
  ]
}