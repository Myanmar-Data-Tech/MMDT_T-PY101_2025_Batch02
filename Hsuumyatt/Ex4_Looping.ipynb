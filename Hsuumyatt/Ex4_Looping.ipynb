{
  "cells": [
    {
      "cell_type": "markdown",
      "metadata": {
        "id": "view-in-github",
        "colab_type": "text"
      },
      "source": [
        "<a href=\"https://colab.research.google.com/github/Hsuumyatt/MMDT_T-PY101_2025_Batch02/blob/main/Hsuumyatt/Ex4_Looping.ipynb\" target=\"_parent\"><img src=\"https://colab.research.google.com/assets/colab-badge.svg\" alt=\"Open In Colab\"/></a>"
      ]
    },
    {
      "cell_type": "markdown",
      "metadata": {
        "id": "YeTHwB3EASGn"
      },
      "source": [
        "The exercises are extracted from A_Practical_Introduction_to_Python_Programming_Heinold.pdf"
      ]
    },
    {
      "cell_type": "markdown",
      "metadata": {
        "id": "wVOW5QDgAZ_R"
      },
      "source": [
        "Ex 1: Write a program that uses a while loop (not a for loop) to read through a string and print\n",
        "the characters of the string one-by-one on separate lines."
      ]
    },
    {
      "cell_type": "code",
      "execution_count": 1,
      "metadata": {
        "id": "77KGqP-sJJNh",
        "colab": {
          "base_uri": "https://localhost:8080/"
        },
        "outputId": "c9c3c45d-63a3-411e-b316-91824f4508df"
      },
      "outputs": [
        {
          "output_type": "stream",
          "name": "stdout",
          "text": [
            "Enter a string: hsu\n",
            "h\n",
            "s\n",
            "u\n"
          ]
        }
      ],
      "source": [
        "\n",
        "text = input(\"Enter a string: \")\n",
        "\n",
        "\n",
        "index = 0\n",
        "\n",
        "\n",
        "while index < len(text):\n",
        "    print(text[index])\n",
        "    index += 1"
      ]
    },
    {
      "cell_type": "markdown",
      "metadata": {
        "id": "5B-LyYV0AkCK"
      },
      "source": [
        "Ex 2: A good program will make sure that the data its users enter is valid. Write a program that\n",
        "asks the user for a weight and converts it from kilograms to pounds. Whenever the user\n",
        "enters a weight below 0, the program should tell them that their entry is invalid and then ask\n",
        "them again to enter a weight. [Hint: Use a while loop, not an if statement]."
      ]
    },
    {
      "cell_type": "code",
      "execution_count": null,
      "metadata": {
        "id": "gpRZnsXjArkF",
        "colab": {
          "base_uri": "https://localhost:8080/"
        },
        "outputId": "ba407cd1-e0a8-46b6-fbe2-db4b7c81810a"
      },
      "outputs": [
        {
          "output_type": "stream",
          "name": "stdout",
          "text": [
            "Enter your weight in kilograms: 23\n",
            "23.0 kilograms is equal to 50.71 pounds.\n"
          ]
        }
      ],
      "source": [
        "\n",
        "KG_TO_POUNDS = 2.20462\n",
        "\n",
        "\n",
        "weight = float(input(\"Enter your weight in kilograms: \"))\n",
        "\n",
        "\n",
        "while weight < 0:\n",
        "    print(\"Invalid entry. Weight cannot be negative.\")\n",
        "    weight = float(input(\"Please enter your weight in kilograms: \"))\n",
        "\n",
        "\n",
        "pounds = weight * KG_TO_POUNDS\n",
        "\n",
        "\n",
        "print(f\"{weight} kilograms is equal to {pounds:.2f} pounds.\")"
      ]
    },
    {
      "cell_type": "markdown",
      "metadata": {
        "id": "zQT0pCjRAsIK"
      },
      "source": [
        "Ex 3: Write a program that allows the user to enter any number of test scores. The user indicates\n",
        "they are done by entering in a negative number. Print how many of the scores are A’s (90 or\n",
        "above). Also print out the average"
      ]
    },
    {
      "cell_type": "code",
      "execution_count": null,
      "metadata": {
        "id": "Gya-rvYUAviK",
        "colab": {
          "base_uri": "https://localhost:8080/"
        },
        "outputId": "beeb2fe7-60fd-4b83-e59d-581c3599e115"
      },
      "outputs": [
        {
          "output_type": "stream",
          "name": "stdout",
          "text": [
            "Enter a test score (negative number to stop): 0\n",
            "Enter a test score (negative number to stop): 2\n",
            "Enter a test score (negative number to stop): -6\n",
            "\n",
            "Number of A scores (90 or above): 0\n",
            "Average score: 1.00\n"
          ]
        }
      ],
      "source": [
        "\n",
        "total = 0\n",
        "count = 0\n",
        "a_count = 0\n",
        "\n",
        "\n",
        "score = float(input(\"Enter a test score (negative number to stop): \"))\n",
        "\n",
        "\n",
        "while score >= 0:\n",
        "    total += score\n",
        "    count += 1\n",
        "\n",
        "\n",
        "    if score >= 90:\n",
        "        a_count += 1\n",
        "\n",
        "\n",
        "    score = float(input(\"Enter a test score (negative number to stop): \"))\n",
        "\n",
        "\n",
        "if count > 0:\n",
        "    average = total / count\n",
        "    print(f\"\\nNumber of A scores (90 or above): {a_count}\")\n",
        "    print(f\"Average score: {average:.2f}\")\n",
        "else:\n",
        "    print(\"No scores were entered.\")"
      ]
    },
    {
      "cell_type": "markdown",
      "metadata": {
        "id": "IHIWc5jHAwxY"
      },
      "source": [
        "Ex 4: Write a program that asks the user for a string and a letter. Using a for loop, the\n",
        "program should print the index of the first occurrence of that letter and a message if the\n",
        "string does not contain the letter."
      ]
    },
    {
      "cell_type": "code",
      "execution_count": null,
      "metadata": {
        "id": "xSe0mtQ8A68M",
        "colab": {
          "base_uri": "https://localhost:8080/"
        },
        "outputId": "65934c6b-cf14-490c-b017-9a71d82de9eb"
      },
      "outputs": [
        {
          "output_type": "stream",
          "name": "stdout",
          "text": [
            "Enter a string: Dog\n",
            "Enter a letter to search for: D\n",
            "The letter 'D' first occurs at index 0.\n"
          ]
        }
      ],
      "source": [
        "\n",
        "text = input(\"Enter a string: \")\n",
        "letter = input(\"Enter a letter to search for: \")\n",
        "\n",
        "\n",
        "found = False\n",
        "\n",
        "for i in range(len(text)):\n",
        "    if text[i] == letter:\n",
        "        print(f\"The letter '{letter}' first occurs at index {i}.\")\n",
        "        found = True\n",
        "        break\n",
        "\n",
        "\n",
        "if not found:\n",
        "    print(f\"The letter '{letter}' was not found in the string.\")"
      ]
    },
    {
      "cell_type": "markdown",
      "metadata": {
        "id": "PfyUq4CnA8vk"
      },
      "source": [
        "Ex 5: Write a program in which you have a list that contains seven integers that can be 0 or 1. Find the first zero entry in the list and change it to a 1. If there are no zero entries, print a message saying so."
      ]
    },
    {
      "cell_type": "code",
      "execution_count": null,
      "metadata": {
        "colab": {
          "base_uri": "https://localhost:8080/"
        },
        "id": "4FSXzB02VY7W",
        "outputId": "6c9034ea-67a5-42da-e6ec-f76a18be639c"
      },
      "outputs": [
        {
          "output_type": "stream",
          "name": "stdout",
          "text": [
            "Original list: [1, 0, 1, 1, 0, 1, 1]\n",
            "First zero found at index 1 — changed to 1.\n",
            "Updated list: [1, 1, 1, 1, 0, 1, 1]\n"
          ]
        }
      ],
      "source": [
        "\n",
        "numbers = [1, 0, 1, 1, 0, 1, 1]\n",
        "\n",
        "print(\"Original list:\", numbers)\n",
        "\n",
        "\n",
        "found = False\n",
        "\n",
        "\n",
        "for i in range(len(numbers)):\n",
        "    if numbers[i] == 0:\n",
        "        numbers[i] = 1\n",
        "        found = True\n",
        "        print(f\"First zero found at index {i} — changed to 1.\")\n",
        "        break\n",
        "\n",
        "if not found:\n",
        "    print(\"No zero entries found in the list.\")\n",
        "\n",
        "print(\"Updated list:\", numbers)"
      ]
    }
  ],
  "metadata": {
    "colab": {
      "name": "Ex4_Looping.ipynb",
      "provenance": [],
      "include_colab_link": true
    },
    "kernelspec": {
      "display_name": "Python 3",
      "name": "python3"
    },
    "language_info": {
      "codemirror_mode": {
        "name": "ipython",
        "version": 3
      },
      "file_extension": ".py",
      "mimetype": "text/x-python",
      "name": "python",
      "nbconvert_exporter": "python",
      "pygments_lexer": "ipython3",
      "version": "3.12.1"
    }
  },
  "nbformat": 4,
  "nbformat_minor": 0
}