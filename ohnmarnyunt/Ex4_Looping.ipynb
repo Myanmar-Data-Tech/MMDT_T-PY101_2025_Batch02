{
  "cells": [
    {
      "cell_type": "markdown",
      "metadata": {
        "id": "view-in-github",
        "colab_type": "text"
      },
      "source": [
        "<a href=\"https://colab.research.google.com/github/ohnmarnyunt/MMDT_T-PY101_2025_Batch02/blob/main/ohnmarnyunt/Ex4_Looping.ipynb\" target=\"_parent\"><img src=\"https://colab.research.google.com/assets/colab-badge.svg\" alt=\"Open In Colab\"/></a>"
      ]
    },
    {
      "cell_type": "markdown",
      "metadata": {
        "id": "YeTHwB3EASGn"
      },
      "source": [
        "The exercises are extracted from A_Practical_Introduction_to_Python_Programming_Heinold.pdf"
      ]
    },
    {
      "cell_type": "markdown",
      "metadata": {
        "id": "wVOW5QDgAZ_R"
      },
      "source": [
        "Ex 1: Write a program that uses a while loop (not a for loop) to read through a string and print\n",
        "the characters of the string one-by-one on separate lines."
      ]
    },
    {
      "cell_type": "code",
      "execution_count": 2,
      "metadata": {
        "id": "77KGqP-sJJNh",
        "outputId": "282d14fb-ccf0-4398-da64-dca36da8e498",
        "colab": {
          "base_uri": "https://localhost:8080/"
        }
      },
      "outputs": [
        {
          "output_type": "stream",
          "name": "stdout",
          "text": [
            "Enter a string: I Love Python!\n",
            "I\n",
            " \n",
            "L\n",
            "o\n",
            "v\n",
            "e\n",
            " \n",
            "P\n",
            "y\n",
            "t\n",
            "h\n",
            "o\n",
            "n\n",
            "!\n"
          ]
        }
      ],
      "source": [
        " my_string = input(\"Enter a string: \")\n",
        " index = 0\n",
        " while index<len(my_string):\n",
        "  print(my_string[index])\n",
        "  index=index+1"
      ]
    },
    {
      "cell_type": "markdown",
      "metadata": {
        "id": "5B-LyYV0AkCK"
      },
      "source": [
        "Ex 2: A good program will make sure that the data its users enter is valid. Write a program that\n",
        "asks the user for a weight and converts it from kilograms to pounds. Whenever the user\n",
        "enters a weight below 0, the program should tell them that their entry is invalid and then ask\n",
        "them again to enter a weight. [Hint: Use a while loop, not an if statement]."
      ]
    },
    {
      "cell_type": "code",
      "execution_count": 26,
      "metadata": {
        "id": "gpRZnsXjArkF",
        "outputId": "9aa4fdc3-cd7b-4704-c8da-cb1b36ac1dff",
        "colab": {
          "base_uri": "https://localhost:8080/"
        }
      },
      "outputs": [
        {
          "output_type": "stream",
          "name": "stdout",
          "text": [
            "Enter weight in kilograms :5\n",
            "The conversion from 5.0kg to 11.0231lbs.\n"
          ]
        }
      ],
      "source": [
        "kilograms = float(input(\"Enter weight in kilograms :\"))\n",
        "while kilograms<0:\n",
        "  print(\"Please type a valid weight!\")\n",
        "  kilograms = float(input(\"Enter weight in kilograms :\"))\n",
        "pounds = kilograms * 2.20462\n",
        "print(f\"The conversion from {kilograms}kg to {pounds}lbs.\")"
      ]
    },
    {
      "cell_type": "markdown",
      "metadata": {
        "id": "zQT0pCjRAsIK"
      },
      "source": [
        "Ex 3: Write a program that allows the user to enter any number of test scores. The user indicates\n",
        "they are done by entering in a negative number. Print how many of the scores are A’s (90 or\n",
        "above). Also print out the average"
      ]
    },
    {
      "cell_type": "code",
      "execution_count": 12,
      "metadata": {
        "id": "Gya-rvYUAviK",
        "outputId": "98c9990e-164e-4988-ed6b-c4029ec95149",
        "colab": {
          "base_uri": "https://localhost:8080/"
        }
      },
      "outputs": [
        {
          "output_type": "stream",
          "name": "stdout",
          "text": [
            "Enter a test score: 20\n",
            "Enter a test score: 80\n",
            "Enter a test score: 100\n",
            "Enter a test score: 90\n",
            "Enter a test score: 10\n",
            "Enter a test score: -1\n",
            "The number subjects of Grade A: 2\n",
            "Total score is 300.0 and average score is 60.0\n"
          ]
        }
      ],
      "source": [
        "score = float(input(\"Enter a test score: \"))\n",
        "above90 = 0\n",
        "total = 0\n",
        "count = 0\n",
        "while score>=0:\n",
        "  if score>=90:\n",
        "    above90 = above90 +1\n",
        "  total = total + score\n",
        "  count = count + 1\n",
        "  score = float(input(\"Enter a test score: \"))\n",
        "\n",
        "if (count>0):\n",
        "  print(f\"The number subjects of Grade A: {above90}\")\n",
        "  print(f\"Total score is {total} and average score is {total/count}\")"
      ]
    },
    {
      "cell_type": "markdown",
      "metadata": {
        "id": "IHIWc5jHAwxY"
      },
      "source": [
        "Ex 4: Write a program that asks the user for a string and a letter. Using a for loop, the\n",
        "program should print the index of the first occurrence of that letter and a message if the\n",
        "string does not contain the letter."
      ]
    },
    {
      "cell_type": "code",
      "execution_count": 19,
      "metadata": {
        "id": "xSe0mtQ8A68M",
        "outputId": "5876a37a-0d78-43ee-ce83-644360ad80c4",
        "colab": {
          "base_uri": "https://localhost:8080/"
        }
      },
      "outputs": [
        {
          "output_type": "stream",
          "name": "stdout",
          "text": [
            "Enter a string: We love python\n",
            "Enter a letter: o\n",
            "The first occurrence index of 'o' letter is 4\n"
          ]
        }
      ],
      "source": [
        "my_string = input(\"Enter a string: \")\n",
        "my_letter = input(\"Enter a letter: \")\n",
        "found = False\n",
        "for index, char in enumerate(my_string):\n",
        "  if my_letter==char:\n",
        "    found = True\n",
        "    print(f\"The first occurrence index of '{my_letter}' letter is {index}\")\n",
        "    break\n",
        "if found==False:\n",
        "  print(\"This letter is not contained in the string!\")"
      ]
    },
    {
      "cell_type": "markdown",
      "metadata": {
        "id": "PfyUq4CnA8vk"
      },
      "source": [
        "Ex 5: Write a program in which you have a list that contains seven integers that can be 0 or 1. Find the first zero entry in the list and change it to a 1. If there are no zero entries, print a message saying so."
      ]
    },
    {
      "cell_type": "code",
      "execution_count": 23,
      "metadata": {
        "id": "JkKQduycfgTI",
        "outputId": "d8e3cfdf-a890-42b5-c126-708a07c424e6",
        "colab": {
          "base_uri": "https://localhost:8080/"
        }
      },
      "outputs": [
        {
          "output_type": "stream",
          "name": "stdout",
          "text": [
            "The new list is  [1, 1, 1, 1, 0, 1, 0]\n"
          ]
        }
      ],
      "source": [
        "my_lists = [1,0,1,1,0,1,0]\n",
        "found=False\n",
        "for i in range(len(my_lists)):\n",
        "  if my_lists[i]==0:\n",
        "    my_lists[i]=1\n",
        "    found=True\n",
        "    break\n",
        "if not found:\n",
        "  print(\"There are no zero entries!\")\n",
        "else:\n",
        "  print(\"The new list is \",my_lists)"
      ]
    },
    {
      "cell_type": "code",
      "source": [],
      "metadata": {
        "id": "TV7tuLJLnSxw"
      },
      "execution_count": null,
      "outputs": []
    }
  ],
  "metadata": {
    "colab": {
      "name": "Ex4_Looping.ipynb",
      "provenance": [],
      "include_colab_link": true
    },
    "kernelspec": {
      "display_name": "Python 3",
      "name": "python3"
    },
    "language_info": {
      "codemirror_mode": {
        "name": "ipython",
        "version": 3
      },
      "file_extension": ".py",
      "mimetype": "text/x-python",
      "name": "python",
      "nbconvert_exporter": "python",
      "pygments_lexer": "ipython3",
      "version": "3.12.1"
    }
  },
  "nbformat": 4,
  "nbformat_minor": 0
}