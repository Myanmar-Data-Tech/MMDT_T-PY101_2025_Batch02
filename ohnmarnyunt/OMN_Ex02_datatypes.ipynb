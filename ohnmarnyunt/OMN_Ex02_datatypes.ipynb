{
  "cells": [
    {
      "cell_type": "markdown",
      "metadata": {
        "id": "view-in-github",
        "colab_type": "text"
      },
      "source": [
        "<a href=\"https://colab.research.google.com/github/ohnmarnyunt/MMDT_T-PY101_2025_Batch02/blob/main/ohnmarnyunt/OMN_Ex02_datatypes.ipynb\" target=\"_parent\"><img src=\"https://colab.research.google.com/assets/colab-badge.svg\" alt=\"Open In Colab\"/></a>"
      ]
    },
    {
      "cell_type": "markdown",
      "metadata": {
        "id": "X_Unw3z9u2-7"
      },
      "source": [
        "Ex 1 : Check the lenght of the string \"My name is python\""
      ]
    },
    {
      "cell_type": "code",
      "execution_count": 1,
      "metadata": {
        "id": "zvDLCtipXnA0",
        "outputId": "09b3d2b8-f80b-4709-cf70-ab52f0edd1a3",
        "colab": {
          "base_uri": "https://localhost:8080/"
        }
      },
      "outputs": [
        {
          "output_type": "execute_result",
          "data": {
            "text/plain": [
              "17"
            ]
          },
          "metadata": {},
          "execution_count": 1
        }
      ],
      "source": [
        "my_string=\"My name is python\"\n",
        "len(my_string)"
      ]
    },
    {
      "cell_type": "markdown",
      "metadata": {
        "id": "6MTvcROkXnA0"
      },
      "source": [
        "Ex 2: Check the number of times \"python\" (regardless of cases: PYTHON, python, Python\" appears in the paragraph : \"Floating-point values in Python are always done in double precision; hence, Python float types correspond to doubles in a C-like language.\""
      ]
    },
    {
      "cell_type": "code",
      "execution_count": 2,
      "metadata": {
        "id": "2ziRMpGeXnA0",
        "outputId": "73da0b66-d236-4ba4-eea9-96b644ccab35",
        "colab": {
          "base_uri": "https://localhost:8080/"
        }
      },
      "outputs": [
        {
          "output_type": "stream",
          "name": "stdout",
          "text": [
            "2\n"
          ]
        }
      ],
      "source": [
        "s = \"Floating-point values in Python are always done in double precision; hence, Python float types correspond to doubles in a C-like language.\"\n",
        "s = s.lower()\n",
        "print(s.count(\"python\"))"
      ]
    },
    {
      "cell_type": "markdown",
      "metadata": {
        "id": "85kW6q42XnA1"
      },
      "source": [
        "Ex 3: Combine two lists : ls1 = [\"apple\", \"banana\", \"cherry\"] and ls2 = [\"apple\", \"banana\", \"cherry\", \"apple\", \"cherry\"]. Print the number of elements in new list."
      ]
    },
    {
      "cell_type": "code",
      "execution_count": 5,
      "metadata": {
        "id": "A-iBFNM2XnA1",
        "outputId": "1374c64e-0598-49e8-9d6a-d77d2cb0d3cb",
        "colab": {
          "base_uri": "https://localhost:8080/"
        }
      },
      "outputs": [
        {
          "output_type": "stream",
          "name": "stdout",
          "text": [
            "The number of elements in new list :  8\n"
          ]
        }
      ],
      "source": [
        "ls1 = [\"apple\", \"banana\", \"cherry\"]\n",
        "ls2 = [\"apple\", \"banana\", \"cherry\", \"apple\", \"cherry\"]\n",
        "new_list = ls1 + ls2\n",
        "print(\"The number of elements in new list : \",len(new_list))"
      ]
    },
    {
      "cell_type": "markdown",
      "metadata": {
        "id": "WgNrMnflXnA1"
      },
      "source": [
        "Ex 4: Create a dictionary for the following table:"
      ]
    },
    {
      "cell_type": "markdown",
      "metadata": {
        "id": "cKovC_igXnA2"
      },
      "source": [
        "| Name | Age |\n",
        "| --- | --- |\n",
        "| Myo | 32 |\n",
        "| Thida | 64 |"
      ]
    },
    {
      "cell_type": "code",
      "execution_count": 6,
      "metadata": {
        "id": "gSo5ukoPXnA2",
        "outputId": "cd712b0f-6f7e-49f9-f4b3-4e58898a8b63",
        "colab": {
          "base_uri": "https://localhost:8080/"
        }
      },
      "outputs": [
        {
          "output_type": "execute_result",
          "data": {
            "text/plain": [
              "{'Myo': 32, 'Thida': 64}"
            ]
          },
          "metadata": {},
          "execution_count": 6
        }
      ],
      "source": [
        "my_dict = {\"Myo\":32,\"Thida\":64}\n",
        "my_dict"
      ]
    },
    {
      "cell_type": "markdown",
      "metadata": {
        "id": "eIj_WS7cXnA2"
      },
      "source": [
        "Ex 5: Combine two sets and print the combined set and its length.\n",
        "set1 = {\"Name\", \"age\", \"Height\"}\n",
        "set2 = {\"Name\", \"status\", \"Education\"}"
      ]
    },
    {
      "cell_type": "code",
      "execution_count": 7,
      "metadata": {
        "id": "s4eoi7vxXnA2",
        "outputId": "1d7dad25-e622-4d82-c869-f5c408aa00ca",
        "colab": {
          "base_uri": "https://localhost:8080/"
        }
      },
      "outputs": [
        {
          "output_type": "stream",
          "name": "stdout",
          "text": [
            "The combined set is {'Name', 'age', 'status', 'Height', 'Education'} and its length is 5\n"
          ]
        }
      ],
      "source": [
        "set1 = {\"Name\", \"age\", \"Height\"}\n",
        "set2 = {\"Name\", \"status\", \"Education\"}\n",
        "new_set = set1.union(set2)\n",
        "print(f\"The combined set is {new_set} and its length is {len(new_set)}\")"
      ]
    },
    {
      "cell_type": "markdown",
      "metadata": {
        "id": "xh6luqRnXnA2"
      },
      "source": [
        "Ex 6: Write a program that asks the user to enter a string. The program should create a new string called new_string from the user's string such that the second character is changed to an asterisk and three exclamation points are attached to the end of the string. Finally, print new_string."
      ]
    },
    {
      "cell_type": "code",
      "execution_count": 8,
      "metadata": {
        "id": "-v7hXkcGXnA3",
        "outputId": "e41d202e-0595-4369-e652-a9b07dfe6b71",
        "colab": {
          "base_uri": "https://localhost:8080/"
        }
      },
      "outputs": [
        {
          "output_type": "stream",
          "name": "stdout",
          "text": [
            "Enter a string: ohnmar\n",
            "o*nmar!!!\n"
          ]
        }
      ],
      "source": [
        "my_string = input(\"Enter a string: \")\n",
        "new_string = my_string.replace(my_string[1],\"*\") + \"!!!\"\n",
        "print(new_string)"
      ]
    },
    {
      "cell_type": "markdown",
      "metadata": {
        "id": "fJvuqtGUXnA3"
      },
      "source": [
        "Ex 7: Write a program that converts the given string 's' to lowercase, removes all Punctuation marks such as period, hyphen, and commas from 's', and prints the resulting string."
      ]
    },
    {
      "cell_type": "code",
      "execution_count": 9,
      "metadata": {
        "id": "Qp4ekk6IXnA3",
        "outputId": "d90d5ed4-eda7-4183-80c5-e76a9c41175c",
        "colab": {
          "base_uri": "https://localhost:8080/"
        }
      },
      "outputs": [
        {
          "output_type": "stream",
          "name": "stdout",
          "text": [
            "floatingpoint values in python are always done in double precision hence python float types correspond to doubles in a clike language\n"
          ]
        }
      ],
      "source": [
        "s = \"Floating-point values in Python are always done in double precision; hence, Python float types correspond to doubles in a C-like language.\"\n",
        "s = s.lower().strip().replace(\"-\",\"\").replace(\";\",\"\").replace(\",\",\"\").replace(\".\",\"\")\n",
        "print(s)\n"
      ]
    },
    {
      "cell_type": "markdown",
      "metadata": {
        "id": "wrEMoKS1XnA3"
      },
      "source": [
        "Ex 8: L1 and L2 should be identical. Write a program that finds the missing number in L2."
      ]
    },
    {
      "cell_type": "code",
      "execution_count": 15,
      "metadata": {
        "id": "rwfPuNFBXnA3",
        "outputId": "fe52ed10-94e6-4b7c-f7ff-9418ca920ab2",
        "colab": {
          "base_uri": "https://localhost:8080/"
        }
      },
      "outputs": [
        {
          "output_type": "stream",
          "name": "stdout",
          "text": [
            "{24}\n"
          ]
        }
      ],
      "source": [
        "from random import randint\n",
        "L1 = list(range(1,101))\n",
        "L2 = L1.copy()\n",
        "L2.remove(randint(1,101))\n",
        "\n",
        "missing_num = set(L1).difference(set(L2))\n",
        "print(missing_num)"
      ]
    },
    {
      "cell_type": "markdown",
      "metadata": {
        "id": "KDJ0HvjcXnA3"
      },
      "source": [
        "Ex 9: Write a program to copy the ls1 = [\"apple\", \"banana\", \"cherry\"] to a new list. Add the element \"blueberry\" to the new list, but keep the original list the same."
      ]
    },
    {
      "cell_type": "code",
      "execution_count": 10,
      "metadata": {
        "id": "nImwr_F2XnA3",
        "outputId": "7b701bc1-9942-4ea0-c164-89410bdb8e5a",
        "colab": {
          "base_uri": "https://localhost:8080/"
        }
      },
      "outputs": [
        {
          "output_type": "stream",
          "name": "stdout",
          "text": [
            "The original list is  ['apple', 'banana', 'cherry']\n",
            "The new list is  ['apple', 'banana', 'cherry', 'blueberry']\n"
          ]
        }
      ],
      "source": [
        "ls1 = [\"apple\", \"banana\", \"cherry\"]\n",
        "new_list = ls1.copy()\n",
        "new_list.append(\"blueberry\")\n",
        "print(\"The original list is \",ls1)\n",
        "print(\"The new list is \",new_list)"
      ]
    },
    {
      "cell_type": "code",
      "source": [],
      "metadata": {
        "id": "nUF5tDOdcMrS"
      },
      "execution_count": null,
      "outputs": []
    }
  ],
  "metadata": {
    "colab": {
      "name": "Ex_2_datatypes.ipynb",
      "provenance": [],
      "include_colab_link": true
    },
    "kernelspec": {
      "display_name": "Python 3",
      "language": "python",
      "name": "python3"
    },
    "language_info": {
      "codemirror_mode": {
        "name": "ipython",
        "version": 3
      },
      "file_extension": ".py",
      "mimetype": "text/x-python",
      "name": "python",
      "nbconvert_exporter": "python",
      "pygments_lexer": "ipython3",
      "version": "3.12.1"
    }
  },
  "nbformat": 4,
  "nbformat_minor": 0
}