{
  "nbformat": 4,
  "nbformat_minor": 0,
  "metadata": {
    "colab": {
      "name": "Ex3_ConditionEx.ipynb",
      "provenance": [],
      "include_colab_link": true
    },
    "kernelspec": {
      "name": "python3",
      "display_name": "Python 3"
    },
    "language_info": {
      "name": "python"
    }
  },
  "cells": [
    {
      "cell_type": "markdown",
      "metadata": {
        "id": "view-in-github",
        "colab_type": "text"
      },
      "source": [
        "<a href=\"https://colab.research.google.com/github/ohnmarnyunt/MMDT_T-PY101_2025_Batch02/blob/main/ohnmarnyunt/Ex3_ConditionEx.ipynb\" target=\"_parent\"><img src=\"https://colab.research.google.com/assets/colab-badge.svg\" alt=\"Open In Colab\"/></a>"
      ]
    },
    {
      "cell_type": "markdown",
      "source": [
        "Write a program that asks the user to enter a length in centimeters. If the user enters a negative length, the program should tell the user that the entry is invalid. Otherwise, the program should convert the length to inches and print out the result. There are 2.54 centimeters in an inch.\n"
      ],
      "metadata": {
        "id": "r9njLbxcvG0w"
      }
    },
    {
      "cell_type": "code",
      "source": [
        "cm = float(input(\"Enter a length in centimeters: \"))\n",
        "if cm<0:\n",
        "  print(\"Data entry is invalid!\")\n",
        "else:\n",
        "  print(f\"Conversion from {cm} cm to inches is {cm/2.54}\")"
      ],
      "metadata": {
        "id": "76EFWr1AvMy4",
        "colab": {
          "base_uri": "https://localhost:8080/"
        },
        "outputId": "431105d8-224b-4b00-b9cf-98a1f09fc79d"
      },
      "execution_count": 3,
      "outputs": [
        {
          "output_type": "stream",
          "name": "stdout",
          "text": [
            "Enter a length in centimeters: 2.54\n",
            "Conversion from 2.54 cm to inches is 1.0\n"
          ]
        }
      ]
    },
    {
      "cell_type": "markdown",
      "source": [
        "Ask the user to enter a temperature in Celsius. The program should print a message based on the temperature:\n",
        "\n",
        "*   If the temperature is less than -273.15, print that the temperature is invalid because it is below absolute zero.\n",
        "*   If it is exactly -273.15, print that the temperature is absolute 0.\n",
        "*   If the temperature is between -273.15 and 0, print that the temperature is below freezing.\n",
        "*   If it is 0, print that the temperature is at the freezing point.\n",
        "*   If it is between 0 and 100, print that the temperature is in the normal range.\n",
        "*   If it is 100, print that the temperature is at the boiling point.\n",
        "*   If it is above 100, print that the temperature is above the boiling point."
      ],
      "metadata": {
        "id": "zvaDTmuhvNWJ"
      }
    },
    {
      "cell_type": "code",
      "source": [
        "celsius = float(input(\"Enter a temperature in Celsius: \"))\n",
        "if celsius<-273.15:\n",
        "  print(\"The temperature is invalid!\")\n",
        "elif celsius==-273.15:\n",
        "  print(\"The temperature is absolute 0!\")\n",
        "elif celsius>-273.15 and celsius<0:\n",
        "  print(\"The temperature is below Freezing!\")\n",
        "elif celsius==0:\n",
        "  print(\"The temperature is freezing point\")\n",
        "elif celsius>0 and celsius<100:\n",
        "  print(\"The temperature is normal range\")\n",
        "elif celsius==100:\n",
        "  print(\"The temperature is boiling point\")\n",
        "elif celsius>100:\n",
        "  print(\"The temperature is above boiling point\")"
      ],
      "metadata": {
        "id": "UiCbUIcwvqxO",
        "colab": {
          "base_uri": "https://localhost:8080/"
        },
        "outputId": "06bf3a99-f00e-49ed-c443-43efd7215663"
      },
      "execution_count": 10,
      "outputs": [
        {
          "output_type": "stream",
          "name": "stdout",
          "text": [
            "Enter a temperature in Celsius: 12\n",
            "The temperature is normal range\n"
          ]
        }
      ]
    },
    {
      "cell_type": "markdown",
      "source": [
        "Write a program that asks the user how many credits they have taken. If they have taken 23 or less, print that the student is a freshman. If they have taken between 24 and 53, print that they are a sophomore. The range for juniors is 54 to 83, and for seniors it is 84 and over."
      ],
      "metadata": {
        "id": "hoczytNLvrnd"
      }
    },
    {
      "cell_type": "code",
      "source": [
        "credits = int(input(\"Enter your credits: \"))\n",
        "if credits<=23:\n",
        "  print(\"Freshman\")\n",
        "elif credits>=24 and credits<=53:\n",
        "  print(\"Sophomore\")\n",
        "elif credits>=54 and credits<=83:\n",
        "  print(\"Juniors\")\n",
        "elif credits>=84:\n",
        "  print(\"Seniors\")"
      ],
      "metadata": {
        "id": "r8_O-_zLvurf",
        "colab": {
          "base_uri": "https://localhost:8080/"
        },
        "outputId": "963aa624-fc96-4370-8850-f99339beec9f"
      },
      "execution_count": 15,
      "outputs": [
        {
          "output_type": "stream",
          "name": "stdout",
          "text": [
            "Enter your credits: 55\n",
            "Juniors\n"
          ]
        }
      ]
    },
    {
      "cell_type": "code",
      "source": [],
      "metadata": {
        "id": "zzhjb8FMflMt"
      },
      "execution_count": null,
      "outputs": []
    }
  ]
}