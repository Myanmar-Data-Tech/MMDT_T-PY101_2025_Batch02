{
  "cells": [
    {
      "cell_type": "markdown",
      "metadata": {
        "id": "view-in-github",
        "colab_type": "text"
      },
      "source": [
        "<a href=\"https://colab.research.google.com/github/mshninwuttyi/MMDT_T-PY101_2025_Batch02/blob/main/hnin_wutt_yi/Ex4_Looping.ipynb\" target=\"_parent\"><img src=\"https://colab.research.google.com/assets/colab-badge.svg\" alt=\"Open In Colab\"/></a>"
      ]
    },
    {
      "cell_type": "markdown",
      "metadata": {
        "id": "YeTHwB3EASGn"
      },
      "source": [
        "The exercises are extracted from A_Practical_Introduction_to_Python_Programming_Heinold.pdf"
      ]
    },
    {
      "cell_type": "markdown",
      "metadata": {
        "id": "wVOW5QDgAZ_R"
      },
      "source": [
        "Ex 1: Write a program that uses a while loop (not a for loop) to read through a string and print\n",
        "the characters of the string one-by-one on separate lines."
      ]
    },
    {
      "cell_type": "code",
      "execution_count": 7,
      "metadata": {
        "id": "77KGqP-sJJNh",
        "colab": {
          "base_uri": "https://localhost:8080/"
        },
        "outputId": "af162e9b-04cf-43c4-fcbf-b9385a8f7cc7"
      },
      "outputs": [
        {
          "output_type": "stream",
          "name": "stdout",
          "text": [
            "Enter a word : Test\n",
            "T\n",
            "e\n",
            "s\n",
            "t\n"
          ]
        }
      ],
      "source": [
        "inputString = input(\"Enter a word : \")\n",
        "i = 0\n",
        "while (i < len(inputString)):\n",
        "  print(inputString[i])\n",
        "  i+=1"
      ]
    },
    {
      "cell_type": "markdown",
      "metadata": {
        "id": "5B-LyYV0AkCK"
      },
      "source": [
        "Ex 2: A good program will make sure that the data its users enter is valid. Write a program that\n",
        "asks the user for a weight and converts it from kilograms to pounds. Whenever the user\n",
        "enters a weight below 0, the program should tell them that their entry is invalid and then ask\n",
        "them again to enter a weight. [Hint: Use a while loop, not an if statement]."
      ]
    },
    {
      "cell_type": "code",
      "execution_count": 10,
      "metadata": {
        "id": "gpRZnsXjArkF",
        "colab": {
          "base_uri": "https://localhost:8080/"
        },
        "outputId": "4795aa3c-4f24-4e45-955c-16bcf297820a"
      },
      "outputs": [
        {
          "output_type": "stream",
          "name": "stdout",
          "text": [
            "Enter weight : -4\n",
            "This is invalid entry.\n",
            "Enter weight : 51\n",
            "51.0 Kg is equal to 112.43561999999999 lb\n"
          ]
        }
      ],
      "source": [
        "weight = input(\"Enter weight : \")\n",
        "weightKg = float(weight)\n",
        "while (weightKg < 0):\n",
        "  print(\"This is invalid entry.\")\n",
        "  weight = input(\"Enter weight : \")\n",
        "  weightKg = float(weight)\n",
        "\n",
        "weightLb = weightKg * 2.20462\n",
        "print(\"{} Kg is equal to {} lb\".format(weightKg,weightLb))\n",
        "\n"
      ]
    },
    {
      "cell_type": "markdown",
      "metadata": {
        "id": "zQT0pCjRAsIK"
      },
      "source": [
        "Ex 3: Write a program that allows the user to enter any number of test scores. The user indicates\n",
        "they are done by entering in a negative number. Print how many of the scores are A’s (90 or\n",
        "above). Also print out the average"
      ]
    },
    {
      "cell_type": "code",
      "execution_count": 12,
      "metadata": {
        "id": "Gya-rvYUAviK",
        "colab": {
          "base_uri": "https://localhost:8080/"
        },
        "outputId": "22142342-8d36-413f-f11c-46f2dc81b697"
      },
      "outputs": [
        {
          "output_type": "stream",
          "name": "stdout",
          "text": [
            "Enter test scores : -9\n",
            "Are you done? If not, enter a valid score\n"
          ]
        }
      ],
      "source": [
        "testScore = float(input(\"Enter test scores : \"))\n",
        "total = 0\n",
        "count = 0\n",
        "a_count = 0\n",
        "\n",
        "while (testScore >= 0):\n",
        "  total += testScore\n",
        "  count += 1\n",
        "\n",
        "  if(testScore >= 90):\n",
        "    a_count += 1\n",
        "  testScore = float(input(\"Enter test scores : \"))\n",
        "\n",
        "if(count > 0):\n",
        "  average = total / count\n",
        "  print(\"Average score is : {}\".format(average))\n",
        "  print(\"score number of A grade is : {}\".format(a_count))\n",
        "\n",
        "\n",
        "else:\n",
        "  print(\"Are you done? If not, enter a valid score\")\n",
        "\n",
        "\n"
      ]
    },
    {
      "cell_type": "markdown",
      "metadata": {
        "id": "IHIWc5jHAwxY"
      },
      "source": [
        "Ex 4: Write a program that asks the user for a string and a letter. Using a for loop, the\n",
        "program should print the index of the first occurrence of that letter and a message if the\n",
        "string does not contain the letter."
      ]
    },
    {
      "cell_type": "code",
      "execution_count": 16,
      "metadata": {
        "id": "xSe0mtQ8A68M",
        "colab": {
          "base_uri": "https://localhost:8080/"
        },
        "outputId": "5c530b80-e89d-436b-da80-2f213af78faa"
      },
      "outputs": [
        {
          "output_type": "stream",
          "name": "stdout",
          "text": [
            "Enter a string: Test\n",
            "Enter a letter: s\n",
            "The index of the first occurrence of s letter is 2\n"
          ]
        }
      ],
      "source": [
        "input_str = input(\"Enter a string: \")\n",
        "input_letter = input(\"Enter a letter: \")\n",
        "\n",
        "for i in range(len(input_str)):\n",
        "  if input_str[i] == input_letter:\n",
        "    print(\"The index of the first occurrence of {} letter is {}\".format(input_letter, i))\n",
        "    break\n",
        "\n",
        "else:\n",
        "  print(\"The string does not contain the letter\")"
      ]
    },
    {
      "cell_type": "markdown",
      "metadata": {
        "id": "PfyUq4CnA8vk"
      },
      "source": [
        "Ex 5: Write a program in which you have a list that contains seven integers that can be 0 or 1. Find the first zero entry in the list and change it to a 1. If there are no zero entries, print a message saying so."
      ]
    },
    {
      "cell_type": "code",
      "execution_count": 17,
      "metadata": {
        "id": "EncDrL6DbJjh",
        "colab": {
          "base_uri": "https://localhost:8080/"
        },
        "outputId": "5a61a67e-6e5f-4d43-da34-b78882c5bb56"
      },
      "outputs": [
        {
          "output_type": "stream",
          "name": "stdout",
          "text": [
            "Find the first zero entry in the list at  3\n",
            "Updated List:  [1, 1, 1, 1, 0, 1, 1]\n"
          ]
        }
      ],
      "source": [
        "ls = [1, 1, 1, 0, 0, 1, 1]\n",
        "foundZero = False\n",
        "\n",
        "for i in range(len(ls)):\n",
        "  if ls[i] == 0:\n",
        "    ls[i] = 1\n",
        "    foundZero = True\n",
        "    print(\"Find the first zero entry in the list at \", i)\n",
        "    break\n",
        "\n",
        "if foundZero == False:\n",
        "  print(\"There are no zero entries.\")\n",
        "\n",
        "print(\"Updated List: \", ls)"
      ]
    },
    {
      "cell_type": "markdown",
      "source": [],
      "metadata": {
        "id": "5VVQq6meqq0m"
      }
    }
  ],
  "metadata": {
    "colab": {
      "provenance": [],
      "include_colab_link": true
    },
    "kernelspec": {
      "display_name": "Python 3",
      "name": "python3"
    },
    "language_info": {
      "codemirror_mode": {
        "name": "ipython",
        "version": 3
      },
      "file_extension": ".py",
      "mimetype": "text/x-python",
      "name": "python",
      "nbconvert_exporter": "python",
      "pygments_lexer": "ipython3",
      "version": "3.12.1"
    }
  },
  "nbformat": 4,
  "nbformat_minor": 0
}