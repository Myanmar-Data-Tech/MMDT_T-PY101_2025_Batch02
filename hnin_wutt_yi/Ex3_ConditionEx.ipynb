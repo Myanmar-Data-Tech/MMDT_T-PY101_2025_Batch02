{
  "nbformat": 4,
  "nbformat_minor": 0,
  "metadata": {
    "colab": {
      "provenance": [],
      "include_colab_link": true
    },
    "kernelspec": {
      "name": "python3",
      "display_name": "Python 3"
    },
    "language_info": {
      "name": "python"
    }
  },
  "cells": [
    {
      "cell_type": "markdown",
      "metadata": {
        "id": "view-in-github",
        "colab_type": "text"
      },
      "source": [
        "<a href=\"https://colab.research.google.com/github/mshninwuttyi/MMDT_T-PY101_2025_Batch02/blob/main/hnin_wutt_yi/Ex3_ConditionEx.ipynb\" target=\"_parent\"><img src=\"https://colab.research.google.com/assets/colab-badge.svg\" alt=\"Open In Colab\"/></a>"
      ]
    },
    {
      "cell_type": "markdown",
      "source": [
        "Write a program that asks the user to enter a length in centimeters. If the user enters a negative length, the program should tell the user that the entry is invalid. Otherwise, the program should convert the length to inches and print out the result. There are 2.54 centimeters in an inch.\n"
      ],
      "metadata": {
        "id": "r9njLbxcvG0w"
      }
    },
    {
      "cell_type": "code",
      "source": [
        "inputCenti = input(\"Enter centimeters\")\n",
        "centi = float(inputCenti)\n",
        "if(centi < 0):\n",
        "  print(\"The entry is invalid\")\n",
        "else:\n",
        "  inches = centi/2.54\n",
        "  print(\"{} centimeters are equal to {} inches\".format(centi,inches))\n"
      ],
      "metadata": {
        "id": "76EFWr1AvMy4",
        "colab": {
          "base_uri": "https://localhost:8080/"
        },
        "outputId": "44db6af7-4ec6-482e-9ed9-c0aa611b7330"
      },
      "execution_count": 6,
      "outputs": [
        {
          "output_type": "stream",
          "name": "stdout",
          "text": [
            "Enter centimeters5\n",
            "5.0 centimeters are equal to 1.968503937007874 inches\n"
          ]
        }
      ]
    },
    {
      "cell_type": "markdown",
      "source": [
        "Ask the user to enter a temperature in Celsius. The program should print a message based on the temperature:\n",
        "\n",
        "*   If the temperature is less than -273.15, print that the temperature is invalid because it is below absolute zero.\n",
        "*   If it is exactly -273.15, print that the temperature is absolute 0.\n",
        "*   If the temperature is between -273.15 and 0, print that the temperature is below freezing.\n",
        "*   If it is 0, print that the temperature is at the freezing point.\n",
        "*   If it is between 0 and 100, print that the temperature is in the normal range.\n",
        "*   If it is 100, print that the temperature is at the boiling point.\n",
        "*   If it is above 100, print that the temperature is above the boiling point."
      ],
      "metadata": {
        "id": "zvaDTmuhvNWJ"
      }
    },
    {
      "cell_type": "code",
      "source": [
        "inputCelsius = input(\"Enter a temperature in Celsius.\")\n",
        "celisius = float(inputCelsius)\n",
        "\n",
        "if(celisius < -273.15):\n",
        "  print(\"Temp is invalid.\")\n",
        "elif(celisius == -273.15):\n",
        "  print(\"Temp is absolute zero.\")\n",
        "elif(celisius > -273.15 and celisius < 0):\n",
        "  print(\"Temp is below freezing.\")\n",
        "elif(celisius == 0):\n",
        "  print(\"Temp is at the freezing point.\")\n",
        "elif(celisius > 0 and celisius < 100):\n",
        "  print(\"Temp is in the normal range\")\n",
        "elif(celisius == 100):\n",
        "  print(\"Temp is at the boiling point.\")\n",
        "else:\n",
        "  print(\"Temp is above the boiling point.\")\n",
        "\n"
      ],
      "metadata": {
        "id": "UiCbUIcwvqxO",
        "colab": {
          "base_uri": "https://localhost:8080/"
        },
        "outputId": "aaf22763-5f75-429a-de64-01c020a31454"
      },
      "execution_count": 13,
      "outputs": [
        {
          "output_type": "stream",
          "name": "stdout",
          "text": [
            "Enter a temperature in Celsius.102\n",
            "Temp is above the boiling point.\n"
          ]
        }
      ]
    },
    {
      "cell_type": "markdown",
      "source": [
        "Write a program that asks the user how many credits they have taken. If they have taken 23 or less, print that the student is a freshman. If they have taken between 24 and 53, print that they are a sophomore. The range for juniors is 54 to 83, and for seniors it is 84 and over."
      ],
      "metadata": {
        "id": "hoczytNLvrnd"
      }
    },
    {
      "cell_type": "code",
      "source": [
        "inputCredit = input(\"Enter credits\")\n",
        "credit = int(inputCredit)\n",
        "\n",
        "if(credit <= 23):\n",
        "  print(\"You are a freshman.\")\n",
        "elif(credit >= 24 and credit <= 53):\n",
        "  print(\"You are a sophomore.\")\n",
        "elif(credit >= 54 and credit <= 83):\n",
        "  print(\"You are a Junior.\")\n",
        "else:\n",
        "  print(\"You are a Senior.\")"
      ],
      "metadata": {
        "id": "r8_O-_zLvurf",
        "colab": {
          "base_uri": "https://localhost:8080/"
        },
        "outputId": "489b6861-f1a6-46df-fb4e-8476e6af79b4"
      },
      "execution_count": 24,
      "outputs": [
        {
          "output_type": "stream",
          "name": "stdout",
          "text": [
            "Enter credits100\n",
            "You are a Senior.\n"
          ]
        }
      ]
    }
  ]
}