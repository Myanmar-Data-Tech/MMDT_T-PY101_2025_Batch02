{
 "cells": [
  {
   "cell_type": "markdown",
   "metadata": {
    "colab_type": "text",
    "id": "view-in-github"
   },
   "source": [
    "<a href=\"https://colab.research.google.com/github/myothida/PythonProgramming/blob/main/Ex3_ConditionEx.ipynb\" target=\"_parent\"><img src=\"https://colab.research.google.com/assets/colab-badge.svg\" alt=\"Open In Colab\"/></a>"
   ]
  },
  {
   "cell_type": "markdown",
   "metadata": {
    "id": "r9njLbxcvG0w"
   },
   "source": [
    "Write a program that asks the user to enter a length in centimeters. If the user enters a negative length, the program should tell the user that the entry is invalid. Otherwise, the program should convert the length to inches and print out the result. There are 2.54 centimeters in an inch.\n"
   ]
  },
  {
   "cell_type": "code",
   "execution_count": 17,
   "metadata": {
    "id": "76EFWr1AvMy4"
   },
   "outputs": [
    {
     "name": "stdout",
     "output_type": "stream",
     "text": [
      "Enter length in centimeters: -10\n",
      "The entry is invalid\n"
     ]
    }
   ],
   "source": [
    "cen_len = input(\"Enter length in centimeters: \")\n",
    "cen_len = int(cen_len)\n",
    "if cen_len>0:\n",
    "    cen_len = cen_len//2.54*1\n",
    "    print(cen_len)\n",
    "else:\n",
    "    print(\"The entry is invalid\")"
   ]
  },
  {
   "cell_type": "markdown",
   "metadata": {
    "id": "zvaDTmuhvNWJ"
   },
   "source": [
    "Ask the user to enter a temperature in Celsius. The program should print a message based on the temperature:\n",
    "\n",
    "*   If the temperature is less than -273.15, print that the temperature is invalid because it is below absolute zero.\n",
    "*   If it is exactly -273.15, print that the temperature is absolute 0.\n",
    "*   If the temperature is between -273.15 and 0, print that the temperature is below freezing.\n",
    "*   If it is 0, print that the temperature is at the freezing point.\n",
    "*   If it is between 0 and 100, print that the temperature is in the normal range.\n",
    "*   If it is 100, print that the temperature is at the boiling point.\n",
    "*   If it is above 100, print that the temperature is above the boiling point."
   ]
  },
  {
   "cell_type": "code",
   "execution_count": 26,
   "metadata": {
    "id": "UiCbUIcwvqxO"
   },
   "outputs": [
    {
     "name": "stdout",
     "output_type": "stream",
     "text": [
      "Enter a temperature in Celsius: 80\n",
      "The tempearature is in the normal range\n"
     ]
    }
   ],
   "source": [
    "tem_cel = float(input(\"Enter a temperature in Celsius: \"))\n",
    "if tem_cel < -273.15:\n",
    "    print(\"The temperature is invalid because it is below absolute zero\")\n",
    "elif(tem_cel == -273.15):\n",
    "    print(\"The temperature is absolute 0\")\n",
    "elif(tem_cel > -273.15 and tem_cel < 0):\n",
    "    print(\"The temperature is below freezing\")\n",
    "elif(tem_cel == 0):\n",
    "    print(\"The temperature is at the freeing point\")\n",
    "elif(tem_cel > 0 and tem_cel < 100):\n",
    "    print(\"The tempearature is in the normal range\")\n",
    "elif(tem_cel == 100):\n",
    "    print(\"The temprature is at the boiling point\")\n",
    "else:\n",
    "    print(\"The temperature is above the boling point\")"
   ]
  },
  {
   "cell_type": "markdown",
   "metadata": {
    "id": "hoczytNLvrnd"
   },
   "source": [
    "Write a program that asks the user how many credits they have taken. If they have taken 23 or less, print that the student is a freshman. If they have taken between 24 and 53, print that they are a sophomore. The range for juniors is 54 to 83, and for seniors it is 84 and over."
   ]
  },
  {
   "cell_type": "code",
   "execution_count": 31,
   "metadata": {
    "id": "r8_O-_zLvurf"
   },
   "outputs": [
    {
     "name": "stdout",
     "output_type": "stream",
     "text": [
      "Enter your credits: 88\n",
      "For seniors\n"
     ]
    }
   ],
   "source": [
    "credit = int(input(\"Enter your credits: \"))\n",
    "if(credit == 23 or credit < 23):\n",
    "    print(\"The student is a freshman\")\n",
    "elif(credit < 53 and credit > 24):\n",
    "    print(\"They are a sophomore\")\n",
    "elif(credit < 83 and credit > 54):\n",
    "    print(\"The range for juniors\")\n",
    "else:\n",
    "    print(\"For seniors\")\n",
    "    "
   ]
  }
 ],
 "metadata": {
  "colab": {
   "authorship_tag": "ABX9TyOI5kOvNmVfHX5Yp+951U6H",
   "include_colab_link": true,
   "name": "Ex3_ConditionEx.ipynb",
   "provenance": []
  },
  "kernelspec": {
   "display_name": "Python 3 (ipykernel)",
   "language": "python",
   "name": "python3"
  },
  "language_info": {
   "codemirror_mode": {
    "name": "ipython",
    "version": 3
   },
   "file_extension": ".py",
   "mimetype": "text/x-python",
   "name": "python",
   "nbconvert_exporter": "python",
   "pygments_lexer": "ipython3",
   "version": "3.10.9"
  }
 },
 "nbformat": 4,
 "nbformat_minor": 1
}
