{
 "cells": [
  {
   "cell_type": "markdown",
   "metadata": {
    "colab_type": "text",
    "id": "view-in-github"
   },
   "source": [
    "<a href=\"https://colab.research.google.com/github/myothida/PythonProgramming/blob/main/Ex4_Looping.ipynb\" target=\"_parent\"><img src=\"https://colab.research.google.com/assets/colab-badge.svg\" alt=\"Open In Colab\"/></a>"
   ]
  },
  {
   "cell_type": "markdown",
   "metadata": {
    "id": "YeTHwB3EASGn"
   },
   "source": [
    "The exercises are extracted from A_Practical_Introduction_to_Python_Programming_Heinold.pdf"
   ]
  },
  {
   "cell_type": "markdown",
   "metadata": {
    "id": "wVOW5QDgAZ_R"
   },
   "source": [
    "Ex 1: Write a program that uses a while loop (not a for loop) to read through a string and print\n",
    "the characters of the string one-by-one on separate lines."
   ]
  },
  {
   "cell_type": "code",
   "execution_count": 2,
   "metadata": {
    "id": "77KGqP-sJJNh"
   },
   "outputs": [
    {
     "name": "stdout",
     "output_type": "stream",
     "text": [
      "M\n",
      "y\n",
      " \n",
      "L\n",
      "o\n",
      "v\n",
      "e\n"
     ]
    }
   ],
   "source": [
    "ch_str = \"My Love\"\n",
    "idx = 0\n",
    "while idx < len(ch_str):\n",
    "    print(ch_str[idx])\n",
    "    idx +=1"
   ]
  },
  {
   "cell_type": "markdown",
   "metadata": {
    "id": "5B-LyYV0AkCK"
   },
   "source": [
    "Ex 2: A good program will make sure that the data its users enter is valid. Write a program that\n",
    "asks the user for a weight and converts it from kilograms to pounds. Whenever the user\n",
    "enters a weight below 0, the program should tell them that their entry is invalid and then ask\n",
    "them again to enter a weight. [Hint: Use a while loop, not an if statement]."
   ]
  },
  {
   "cell_type": "code",
   "execution_count": 3,
   "metadata": {
    "id": "gpRZnsXjArkF"
   },
   "outputs": [
    {
     "name": "stdout",
     "output_type": "stream",
     "text": [
      "Enter weight: -1\n",
      "The entry is invalid\n",
      "Enter weight:52\n",
      "kilogram to weight  114.4\n"
     ]
    }
   ],
   "source": [
    "weight = input(\"Enter weight: \")\n",
    "weight = int(weight)\n",
    "while weight < 0:\n",
    "    print(\"The entry is invalid\")\n",
    "    weight = input(\"Enter weight:\")\n",
    "    weight = int(weight)\n",
    "    weight > 0\n",
    "    kg_lb = weight * 2.2\n",
    "    print(\"kilogram to weight \", str(kg_lb))"
   ]
  },
  {
   "cell_type": "markdown",
   "metadata": {
    "id": "zQT0pCjRAsIK"
   },
   "source": [
    "Ex 3: Write a program that allows the user to enter any number of test scores. The user indicates\n",
    "they are done by entering in a negative number. Print how many of the scores are A’s (90 or\n",
    "above). Also print out the average"
   ]
  },
  {
   "cell_type": "code",
   "execution_count": 4,
   "metadata": {
    "id": "Gya-rvYUAviK"
   },
   "outputs": [
    {
     "name": "stdout",
     "output_type": "stream",
     "text": [
      "Enter test score: 44\n",
      "Enter test score: 77\n",
      "Enter test score: 90\n",
      "The average is 70.33333333333333 of 211\n",
      "Enter test score: -1\n"
     ]
    }
   ],
   "source": [
    "result = 0\n",
    "count = 0\n",
    "while True:\n",
    "    test_score = input(\"Enter test score: \")\n",
    "    test_score = int(test_score)\n",
    "    if test_score < 0:\n",
    "        break\n",
    "    count = count + 1\n",
    "    result = result + test_score\n",
    "    if test_score >= 90:\n",
    "        average = result/count\n",
    "        print(f\"The average is {average} of {result}\")\n",
    "else:\n",
    "    print(\"NO\")"
   ]
  },
  {
   "cell_type": "markdown",
   "metadata": {
    "id": "IHIWc5jHAwxY"
   },
   "source": [
    "Ex 4: Write a program that asks the user for a string and a letter. Using a for loop, the\n",
    "program should print the index of the first occurrence of that letter and a message if the\n",
    "string does not contain the letter."
   ]
  },
  {
   "cell_type": "code",
   "execution_count": 4,
   "metadata": {
    "id": "xSe0mtQ8A68M"
   },
   "outputs": [
    {
     "name": "stdout",
     "output_type": "stream",
     "text": [
      "Enter a string: I am a girl\n",
      "Enter a letter: a\n",
      "The string does not contain the letter\n",
      "The string does not contain the letter\n",
      "It is true for a at index 2\n"
     ]
    }
   ],
   "source": [
    "ur_string = input(\"Enter a string: \")\n",
    "letter = input(\"Enter a letter: \")\n",
    "\n",
    "for idx, str in enumerate(ur_string):\n",
    "    if str == letter:\n",
    "        print(f\"It is true for {letter} at index {idx}\")\n",
    "        break\n",
    "    else:\n",
    "        print(\"The string does not contain the letter\")"
   ]
  },
  {
   "cell_type": "markdown",
   "metadata": {
    "id": "PfyUq4CnA8vk"
   },
   "source": [
    "Ex 5: Write a program in which you have a list that contains seven integers that can be 0 or 1. Find the first zero entry in the list and change it to a 1. If there are no zero entries, print a message saying so."
   ]
  },
  {
   "cell_type": "code",
   "execution_count": 17,
   "metadata": {},
   "outputs": [
    {
     "name": "stdout",
     "output_type": "stream",
     "text": [
      "Zero entry exists:  [1, 1, 3, 2, 4, 5, 6]\n"
     ]
    }
   ],
   "source": [
    "list = [0, 1, 3, 2, 4, 5, 6]\n",
    "idx = 0\n",
    "while idx < len(list):\n",
    "    if list[idx] == 0:\n",
    "        list[idx] = 1\n",
    "        print(\"Zero entry exists: \", list)\n",
    "        break\n",
    "        idx = idx + 1\n",
    "    else:\n",
    "        print(\"No zero entries: \", list)"
   ]
  }
 ],
 "metadata": {
  "colab": {
   "authorship_tag": "ABX9TyOm3U7ihfZeEceAaZW842Wb",
   "include_colab_link": true,
   "name": "Ex4_Looping.ipynb",
   "provenance": []
  },
  "kernelspec": {
   "display_name": "Python 3 (ipykernel)",
   "language": "python",
   "name": "python3"
  },
  "language_info": {
   "codemirror_mode": {
    "name": "ipython",
    "version": 3
   },
   "file_extension": ".py",
   "mimetype": "text/x-python",
   "name": "python",
   "nbconvert_exporter": "python",
   "pygments_lexer": "ipython3",
   "version": "3.10.9"
  }
 },
 "nbformat": 4,
 "nbformat_minor": 1
}
