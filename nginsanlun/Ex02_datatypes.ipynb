{
 "cells": [
  {
   "cell_type": "markdown",
   "metadata": {
    "colab_type": "text",
    "id": "view-in-github"
   },
   "source": [
    "<a href=\"https://colab.research.google.com/github/myothida/PythonProgramming/blob/main/Ex_2_datatypes.ipynb\" target=\"_parent\"><img src=\"https://colab.research.google.com/assets/colab-badge.svg\" alt=\"Open In Colab\"/></a>"
   ]
  },
  {
   "cell_type": "markdown",
   "metadata": {
    "id": "X_Unw3z9u2-7"
   },
   "source": [
    "Ex 1 : Check the lenght of the string \"My name is python\""
   ]
  },
  {
   "cell_type": "code",
   "execution_count": 7,
   "metadata": {},
   "outputs": [
    {
     "name": "stdout",
     "output_type": "stream",
     "text": [
      "17\n"
     ]
    }
   ],
   "source": [
    "my_name = \"My name is python\"\n",
    "my_name_len = len(my_name)\n",
    "print(my_name_len)"
   ]
  },
  {
   "cell_type": "code",
   "execution_count": null,
   "metadata": {},
   "outputs": [],
   "source": []
  },
  {
   "cell_type": "markdown",
   "metadata": {},
   "source": [
    "Ex 2: Check the number of times \"python\" (regardless of cases: PYTHON, python, Python\" appears in the paragraph : \"Floating-point values in Python are always done in double precision; hence, Python float types correspond to doubles in a C-like language.\""
   ]
  },
  {
   "cell_type": "code",
   "execution_count": 70,
   "metadata": {},
   "outputs": [
    {
     "name": "stdout",
     "output_type": "stream",
     "text": [
      "2\n"
     ]
    }
   ],
   "source": [
    "s = \"Floating-point values in Python are always done in double precision; hence, Python float types correspond to doubles in a C-like language.\"\n",
    "lower_s = s.lower()\n",
    "num_s = lower_s.count(\"python\")\n",
    "print(num_s)"
   ]
  },
  {
   "cell_type": "markdown",
   "metadata": {},
   "source": [
    "Ex 3: Combine two lists : ls1 = [\"apple\", \"banana\", \"cherry\"] and ls2 = [\"apple\", \"banana\", \"cherry\", \"apple\", \"cherry\"]. Print the number of elements in new list. "
   ]
  },
  {
   "cell_type": "code",
   "execution_count": 8,
   "metadata": {},
   "outputs": [
    {
     "name": "stdout",
     "output_type": "stream",
     "text": [
      "8\n"
     ]
    }
   ],
   "source": [
    "ls1 = [\"apple\", \"banana\", \"cherry\"]\n",
    "ls2 = [\"apple\", \"banana\", \"cherry\", \"apple\", \"cherry\"]\n",
    "new_ls = ls1+ls2\n",
    "num_ele  = len(new_ls)\n",
    "print(num_ele)"
   ]
  },
  {
   "cell_type": "markdown",
   "metadata": {},
   "source": [
    "Ex 4: Create a dictionary for the following table: "
   ]
  },
  {
   "cell_type": "markdown",
   "metadata": {},
   "source": [
    "| Name | Age | \n",
    "| --- | --- | \n",
    "| Myo | 32 |\n",
    "| Thida | 64 |"
   ]
  },
  {
   "cell_type": "code",
   "execution_count": 10,
   "metadata": {},
   "outputs": [
    {
     "name": "stdout",
     "output_type": "stream",
     "text": [
      "{'Name': 'Myo', 'Age': 32} {'Name': 'Thida', 'Age': 64}\n"
     ]
    }
   ],
   "source": [
    "my_name1={\"Name\":\"Myo\",\"Age\":32}\n",
    "my_name2={\"Name\":\"Thida\",\"Age\":64}\n",
    "print(my_name1, my_name2)"
   ]
  },
  {
   "cell_type": "markdown",
   "metadata": {},
   "source": [
    "Ex 5: Combine two sets and print the combined set and its length. \n",
    "set1 = {\"Name\", \"age\", \"Height\"}\n",
    "set2 = {\"Name\", \"status\", \"Education\"}"
   ]
  },
  {
   "cell_type": "code",
   "execution_count": 16,
   "metadata": {},
   "outputs": [
    {
     "name": "stdout",
     "output_type": "stream",
     "text": [
      "5\n"
     ]
    }
   ],
   "source": [
    "set1 = {\"Name\", \"age\", \"Height\"} \n",
    "set2 = {\"Name\", \"status\", \"Education\"}\n",
    "my_set = set1.union(set2)\n",
    "my_set_len = len(my_set)\n",
    "print(my_set_len)\n"
   ]
  },
  {
   "cell_type": "markdown",
   "metadata": {},
   "source": [
    "Ex 6: Write a program that asks the user to enter a string. The program should create a new string called new_string from the user's string such that the second character is changed to an asterisk and three exclamation points are attached to the end of the string. Finally, print new_string. "
   ]
  },
  {
   "cell_type": "code",
   "execution_count": 97,
   "metadata": {},
   "outputs": [
    {
     "name": "stdout",
     "output_type": "stream",
     "text": [
      "Enter a stringhello\n",
      "h*llo!!!\n"
     ]
    }
   ],
   "source": [
    "string = input(\"Enter a string\")\n",
    "new_string = string.replace(string[1],\"*\")+\"!!!\"\n",
    "print(new_string)"
   ]
  },
  {
   "cell_type": "markdown",
   "metadata": {},
   "source": [
    "Ex 7: Write a program that converts the given string 's' to lowercase, removes all Punctuation marks such as period, hyphen, and commas from 's', and prints the resulting string."
   ]
  },
  {
   "cell_type": "code",
   "execution_count": 104,
   "metadata": {},
   "outputs": [
    {
     "name": "stdout",
     "output_type": "stream",
     "text": [
      "floating point values in python are always done in double precision  hence  python float types correspond to doubles in a c like language.\n"
     ]
    }
   ],
   "source": [
    "s = \"Floating-point values in Python are always done in double precision; hence, Python float types correspond to doubles in a C-like language.\"\n",
    "s_lowercase = s.lower()\n",
    "s_hy = s_lowercase.replace(\"-\", \" \")\n",
    "s_se = s_hy.replace(\";\", \" \")\n",
    "s_com = s_se.replace(\",\", \" \")\n",
    "print(s_com)"
   ]
  },
  {
   "cell_type": "markdown",
   "metadata": {},
   "source": [
    "Ex 8: L1 and L2 should be identical. Write a program that finds the missing number in L2. "
   ]
  },
  {
   "cell_type": "code",
   "execution_count": 107,
   "metadata": {},
   "outputs": [
    {
     "name": "stdout",
     "output_type": "stream",
     "text": [
      "{64}\n"
     ]
    }
   ],
   "source": [
    "from random import randint\n",
    "L1 = list(range(1,101))\n",
    "L2 = L1.copy()\n",
    "L2.remove(randint(1,101))\n",
    "L2 = set(L1).difference(set(L2))\n",
    "print(L2)"
   ]
  },
  {
   "cell_type": "markdown",
   "metadata": {},
   "source": [
    "Ex 9: Write a program to copy the ls1 = [\"apple\", \"banana\", \"cherry\"] to a new list. Add the element \"blueberry\" to the new list, but keep the original list the same. "
   ]
  },
  {
   "cell_type": "code",
   "execution_count": 47,
   "metadata": {},
   "outputs": [
    {
     "name": "stdout",
     "output_type": "stream",
     "text": [
      "ls1:  ['apple', 'banana', 'cherry']\n",
      "new list:  ['apple', 'banana', 'cherry', 'blueberry']\n"
     ]
    }
   ],
   "source": [
    "ls1 = [\"apple\", \"banana\", \"cherry\"]\n",
    "new_list = ls1.copy()\n",
    "new_list = [\"apple\", \"banana\", \"cherry\",\"blueberry\"]\n",
    "print(\"ls1: \", ls1)\n",
    "print(\"new list: \", new_list)"
   ]
  }
 ],
 "metadata": {
  "colab": {
   "authorship_tag": "ABX9TyMRiET2AmIIzpj2LeD8ccas",
   "include_colab_link": true,
   "name": "Ex_2_datatypes.ipynb",
   "provenance": []
  },
  "kernelspec": {
   "display_name": "Python 3 (ipykernel)",
   "language": "python",
   "name": "python3"
  },
  "language_info": {
   "codemirror_mode": {
    "name": "ipython",
    "version": 3
   },
   "file_extension": ".py",
   "mimetype": "text/x-python",
   "name": "python",
   "nbconvert_exporter": "python",
   "pygments_lexer": "ipython3",
   "version": "3.10.9"
  }
 },
 "nbformat": 4,
 "nbformat_minor": 1
}
