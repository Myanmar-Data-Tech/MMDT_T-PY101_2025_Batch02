{
  "cells": [
    {
      "cell_type": "markdown",
      "metadata": {
        "colab_type": "text",
        "id": "view-in-github"
      },
      "source": [
        "<a href=\"https://colab.research.google.com/github/myothida/PythonProgramming/blob/main/Ex4_Looping.ipynb\" target=\"_parent\"><img src=\"https://colab.research.google.com/assets/colab-badge.svg\" alt=\"Open In Colab\"/></a>"
      ]
    },
    {
      "cell_type": "markdown",
      "metadata": {
        "id": "YeTHwB3EASGn"
      },
      "source": [
        "The exercises are extracted from A_Practical_Introduction_to_Python_Programming_Heinold.pdf"
      ]
    },
    {
      "cell_type": "markdown",
      "metadata": {
        "id": "wVOW5QDgAZ_R"
      },
      "source": [
        "Ex 1: Write a program that uses a while loop (not a for loop) to read through a string and print\n",
        "the characters of the string one-by-one on separate lines."
      ]
    },
    {
      "cell_type": "code",
      "execution_count": 80,
      "metadata": {
        "id": "77KGqP-sJJNh"
      },
      "outputs": [
        {
          "name": "stdout",
          "output_type": "stream",
          "text": [
            "2\n"
          ]
        }
      ],
      "source": [
        "text = input(\"Enter the string: \")\n",
        "i = 0\n",
        "while i < len(text):\n",
        "    print(text[i])\n",
        "    i += 1"
      ]
    },
    {
      "cell_type": "markdown",
      "metadata": {
        "id": "5B-LyYV0AkCK"
      },
      "source": [
        "Ex 2: A good program will make sure that the data its users enter is valid. Write a program that\n",
        "asks the user for a weight and converts it from kilograms to pounds. Whenever the user\n",
        "enters a weight below 0, the program should tell them that their entry is invalid and then ask\n",
        "them again to enter a weight. [Hint: Use a while loop, not an if statement]."
      ]
    },
    {
      "cell_type": "code",
      "execution_count": 83,
      "metadata": {
        "id": "gpRZnsXjArkF"
      },
      "outputs": [
        {
          "name": "stdout",
          "output_type": "stream",
          "text": [
            "The weight is 88.18 pounds\n"
          ]
        }
      ],
      "source": [
        "weight = float(input(\"Enter the weight in kilogram: \"))\n",
        "while weight < 0:\n",
        "    print (\"The data entry is invalid\")\n",
        "    weight = float(input(\"Enter the weight in kilogram: \"))\n",
        "print(\"The weight is\", round (weight*2.20462,2) , \"pounds\")"
      ]
    },
    {
      "cell_type": "markdown",
      "metadata": {
        "id": "zQT0pCjRAsIK"
      },
      "source": [
        "Ex 3: Write a program that allows the user to enter any number of test scores. The user indicates\n",
        "they are done by entering in a negative number. Print how many of the scores are A’s (90 or\n",
        "above). Also print out the average"
      ]
    },
    {
      "cell_type": "code",
      "execution_count": 56,
      "metadata": {
        "id": "Gya-rvYUAviK"
      },
      "outputs": [
        {
          "name": "stdout",
          "output_type": "stream",
          "text": [
            "The numner of score A is 0\n",
            "The average score is 35.0\n"
          ]
        }
      ],
      "source": [
        "scores = []\n",
        "score_A = 0\n",
        "while True:\n",
        "    score = float(input(\"Enter the scores and write negative number to finish: \"))\n",
        "    if score < 0:\n",
        "        break\n",
        "    scores.append(score)\n",
        "    if score >= 90:\n",
        "        score_A += 1\n",
        "print (\"The numner of score A is\", score_A)\n",
        "print (\"The average score is\", sum(scores)/len(scores))"
      ]
    },
    {
      "cell_type": "markdown",
      "metadata": {
        "id": "IHIWc5jHAwxY"
      },
      "source": [
        "Ex 4: Write a program that asks the user for a string and a letter. Using a for loop, the\n",
        "program should print the index of the first occurrence of that letter and a message if the\n",
        "string does not contain the letter."
      ]
    },
    {
      "cell_type": "code",
      "execution_count": 60,
      "metadata": {
        "id": "xSe0mtQ8A68M"
      },
      "outputs": [
        {
          "name": "stdout",
          "output_type": "stream",
          "text": [
            "The letter does not contain in the string.\n"
          ]
        }
      ],
      "source": [
        "string = input(\"Enter the string: \").lower()\n",
        "letter = input(\"Enter the letter: \").lower()\n",
        "for index, s in enumerate(string):\n",
        "    if letter == s:\n",
        "        print (index)\n",
        "        break\n",
        "else:\n",
        "    print (\"The letter does not contain in the string.\")\n",
        "    \n"
      ]
    },
    {
      "cell_type": "markdown",
      "metadata": {
        "id": "PfyUq4CnA8vk"
      },
      "source": [
        "Ex 5: Write a program in which you have a list that contains seven integers that can be 0 or 1. Find the first zero entry in the list and change it to a 1. If there are no zero entries, print a message saying so."
      ]
    },
    {
      "cell_type": "code",
      "execution_count": 81,
      "metadata": {},
      "outputs": [
        {
          "name": "stdout",
          "output_type": "stream",
          "text": [
            "Updated list is [1, 1, 0, 1, 1, 1, 0]\n"
          ]
        }
      ],
      "source": [
        "list = [1,0,0,1,1,1,0]\n",
        "zero_found = False\n",
        "for i in range (len(list)):\n",
        "    if list[i] == 0:\n",
        "        list[i] = 1\n",
        "        zero_found = True\n",
        "        break\n",
        "\n",
        "if zero_found:\n",
        "    print(\"Updated list is\", list)\n",
        "else:\n",
        "    print (\"There is no zero entries\")"
      ]
    },
    {
      "cell_type": "code",
      "execution_count": null,
      "metadata": {},
      "outputs": [],
      "source": []
    }
  ],
  "metadata": {
    "colab": {
      "authorship_tag": "ABX9TyOm3U7ihfZeEceAaZW842Wb",
      "include_colab_link": true,
      "name": "Ex4_Looping.ipynb",
      "provenance": []
    },
    "kernelspec": {
      "display_name": "base",
      "language": "python",
      "name": "python3"
    },
    "language_info": {
      "codemirror_mode": {
        "name": "ipython",
        "version": 3
      },
      "file_extension": ".py",
      "mimetype": "text/x-python",
      "name": "python",
      "nbconvert_exporter": "python",
      "pygments_lexer": "ipython3",
      "version": "3.12.7"
    }
  },
  "nbformat": 4,
  "nbformat_minor": 0
}
