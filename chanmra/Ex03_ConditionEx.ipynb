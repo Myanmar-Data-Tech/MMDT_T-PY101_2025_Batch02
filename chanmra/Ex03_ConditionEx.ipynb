{
  "cells": [
    {
      "cell_type": "markdown",
      "metadata": {
        "colab_type": "text",
        "id": "view-in-github"
      },
      "source": [
        "<a href=\"https://colab.research.google.com/github/myothida/PythonProgramming/blob/main/Ex3_ConditionEx.ipynb\" target=\"_parent\"><img src=\"https://colab.research.google.com/assets/colab-badge.svg\" alt=\"Open In Colab\"/></a>"
      ]
    },
    {
      "cell_type": "markdown",
      "metadata": {
        "id": "r9njLbxcvG0w"
      },
      "source": [
        "Write a program that asks the user to enter a length in centimeters. If the user enters a negative length, the program should tell the user that the entry is invalid. Otherwise, the program should convert the length to inches and print out the result. There are 2.54 centimeters in an inch.\n"
      ]
    },
    {
      "cell_type": "code",
      "execution_count": 6,
      "metadata": {
        "id": "76EFWr1AvMy4"
      },
      "outputs": [
        {
          "name": "stdout",
          "output_type": "stream",
          "text": [
            "The lenght is 92.52 inches.\n"
          ]
        }
      ],
      "source": [
        "user_length = int (input (\"Enter the length in centimeter: \"))\n",
        "user_length_inch = round(user_length/2.54,2)\n",
        "if user_length < 0:\n",
        "    print (\"The entry is invalid.\")\n",
        "else:\n",
        "    print (f\"The lenght is {user_length_inch} inches.\")\n"
      ]
    },
    {
      "cell_type": "markdown",
      "metadata": {
        "id": "zvaDTmuhvNWJ"
      },
      "source": [
        "Ask the user to enter a temperature in Celsius. The program should print a message based on the temperature:\n",
        "\n",
        "*   If the temperature is less than -273.15, print that the temperature is invalid because it is below absolute zero.\n",
        "*   If it is exactly -273.15, print that the temperature is absolute 0.\n",
        "*   If the temperature is between -273.15 and 0, print that the temperature is below freezing.\n",
        "*   If it is 0, print that the temperature is at the freezing point.\n",
        "*   If it is between 0 and 100, print that the temperature is in the normal range.\n",
        "*   If it is 100, print that the temperature is at the boiling point.\n",
        "*   If it is above 100, print that the temperature is above the boiling point."
      ]
    },
    {
      "cell_type": "code",
      "execution_count": 9,
      "metadata": {
        "id": "UiCbUIcwvqxO"
      },
      "outputs": [
        {
          "name": "stdout",
          "output_type": "stream",
          "text": [
            "The temperature is in the normal range.\n"
          ]
        }
      ],
      "source": [
        "temp_C = float (input (\"Enter the temperature in Celsius: \"))\n",
        "if temp_C < -273.15:\n",
        "    print (\"The temperature is invalid\")\n",
        "elif temp_C == -273.15:\n",
        "    print (\"The temperature is absolute zero.\")\n",
        "elif temp_C > -273.15 and temp_C < 0:\n",
        "    print (\"The temperature is below freezing.\")\n",
        "elif temp_C == 0:\n",
        "    print (\"The temperature is at freezing point.\")\n",
        "elif temp_C > 0 and temp_C < 100:\n",
        "    print (\"The temperature is in the normal range.\")\n",
        "elif temp_C == 100:\n",
        "    print (\"The temperature is at the boiling point.\")\n",
        "else:\n",
        "    print (\"The temperature is above the boiling point.\")"
      ]
    },
    {
      "cell_type": "markdown",
      "metadata": {
        "id": "hoczytNLvrnd"
      },
      "source": [
        "Write a program that asks the user how many credits they have taken. If they have taken 23 or less, print that the student is a freshman. If they have taken between 24 and 53, print that they are a sophomore. The range for juniors is 54 to 83, and for seniors it is 84 and over."
      ]
    },
    {
      "cell_type": "code",
      "execution_count": 11,
      "metadata": {
        "id": "r8_O-_zLvurf"
      },
      "outputs": [
        {
          "name": "stdout",
          "output_type": "stream",
          "text": [
            "The student is sophomore.\n"
          ]
        }
      ],
      "source": [
        "user_credit = int (input (\"Enter the credits you have taken: \"))\n",
        "if user_credit < 0 :\n",
        "    print (\"The data entry is invalid.\")\n",
        "elif user_credit <= 23:\n",
        "    print (\"The student is a freshman.\")\n",
        "elif user_credit >= 24 and user_credit <= 53:\n",
        "    print (\"The student is sophomore.\")\n",
        "elif user_credit >= 54 and user_credit <= 83:\n",
        "    print (\"The student is a junior.\")\n",
        "else:\n",
        "    print (\"The student is a senior.\")"
      ]
    },
    {
      "cell_type": "code",
      "execution_count": null,
      "metadata": {},
      "outputs": [],
      "source": []
    }
  ],
  "metadata": {
    "colab": {
      "authorship_tag": "ABX9TyOI5kOvNmVfHX5Yp+951U6H",
      "include_colab_link": true,
      "name": "Ex3_ConditionEx.ipynb",
      "provenance": []
    },
    "kernelspec": {
      "display_name": "base",
      "language": "python",
      "name": "python3"
    },
    "language_info": {
      "codemirror_mode": {
        "name": "ipython",
        "version": 3
      },
      "file_extension": ".py",
      "mimetype": "text/x-python",
      "name": "python",
      "nbconvert_exporter": "python",
      "pygments_lexer": "ipython3",
      "version": "3.12.7"
    }
  },
  "nbformat": 4,
  "nbformat_minor": 0
}
