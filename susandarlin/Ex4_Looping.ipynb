{
  "cells": [
    {
      "cell_type": "markdown",
      "metadata": {
        "id": "view-in-github",
        "colab_type": "text"
      },
      "source": [
        "<a href=\"https://colab.research.google.com/github/susandarlin/MMDT_T-PY101_2025_Batch02/blob/main/susandarlin/Ex4_Looping.ipynb\" target=\"_parent\"><img src=\"https://colab.research.google.com/assets/colab-badge.svg\" alt=\"Open In Colab\"/></a>"
      ]
    },
    {
      "cell_type": "markdown",
      "metadata": {
        "id": "YeTHwB3EASGn"
      },
      "source": [
        "The exercises are extracted from A_Practical_Introduction_to_Python_Programming_Heinold.pdf"
      ]
    },
    {
      "cell_type": "markdown",
      "metadata": {
        "id": "wVOW5QDgAZ_R"
      },
      "source": [
        "Ex 1: Write a program that uses a while loop (not a for loop) to read through a string and print\n",
        "the characters of the string one-by-one on separate lines."
      ]
    },
    {
      "cell_type": "code",
      "execution_count": 7,
      "metadata": {
        "id": "77KGqP-sJJNh",
        "colab": {
          "base_uri": "https://localhost:8080/"
        },
        "outputId": "84863579-4677-4cdc-8984-0dcf5dc21ee9"
      },
      "outputs": [
        {
          "output_type": "stream",
          "name": "stdout",
          "text": [
            "Enter a string: apple\n",
            "a\n",
            "p\n",
            "p\n",
            "l\n",
            "e\n"
          ]
        }
      ],
      "source": [
        "input_str = input(\"Enter a string: \")\n",
        "i = 0\n",
        "while (i < len(input_str)):\n",
        "  print(input_str[i])\n",
        "  i = i + 1"
      ]
    },
    {
      "cell_type": "markdown",
      "metadata": {
        "id": "5B-LyYV0AkCK"
      },
      "source": [
        "Ex 2: A good program will make sure that the data its users enter is valid. Write a program that\n",
        "asks the user for a weight and converts it from kilograms to pounds. Whenever the user\n",
        "enters a weight below 0, the program should tell them that their entry is invalid and then ask\n",
        "them again to enter a weight. [Hint: Use a while loop, not an if statement]."
      ]
    },
    {
      "cell_type": "code",
      "execution_count": 14,
      "metadata": {
        "id": "gpRZnsXjArkF",
        "colab": {
          "base_uri": "https://localhost:8080/"
        },
        "outputId": "d8c3fe6a-8c58-427b-800d-443c603f41b7"
      },
      "outputs": [
        {
          "output_type": "stream",
          "name": "stdout",
          "text": [
            "Enter a weight: -2\n",
            "Invalid weight, Enter your weight again\n",
            "Enter a weight: -5\n",
            "Invalid weight, Enter your weight again\n",
            "Enter a weight: 50\n",
            "110.231\n"
          ]
        }
      ],
      "source": [
        "input_weight = input(\"Enter a weight: \")\n",
        "weight = float(input_weight)\n",
        "\n",
        "while weight < 0:\n",
        "  print(\"Invalid weight, Enter your weight again\")\n",
        "  input_weight = input((\"Enter a weight: \"))\n",
        "  weight = float(input_weight)\n",
        "\n",
        "pound = weight * 2.20462\n",
        "print(pound)\n",
        "\n"
      ]
    },
    {
      "cell_type": "markdown",
      "metadata": {
        "id": "zQT0pCjRAsIK"
      },
      "source": [
        "Ex 3: Write a program that allows the user to enter any number of test scores. The user indicates\n",
        "they are done by entering in a negative number. Print how many of the scores are A’s (90 or\n",
        "above). Also print out the average"
      ]
    },
    {
      "cell_type": "code",
      "execution_count": 16,
      "metadata": {
        "id": "Gya-rvYUAviK",
        "colab": {
          "base_uri": "https://localhost:8080/"
        },
        "outputId": "a8d75240-1ea1-4511-c995-a67cf9135bdb"
      },
      "outputs": [
        {
          "output_type": "stream",
          "name": "stdout",
          "text": [
            "Enter test scores90\n",
            "Enter test scores70\n",
            "Enter test scores80\n",
            "Enter test scores98\n",
            "Enter test scores100\n",
            "Enter test scores-2\n",
            "Number of the scores A: 3\n",
            "Average: 87.6\n"
          ]
        }
      ],
      "source": [
        "input_score = input(\"Enter test scores\")\n",
        "score = int(input_score)\n",
        "number_of_scores_A = 0\n",
        "total_score = 0\n",
        "count = 0\n",
        "\n",
        "while score >= 0:\n",
        "  if score >= 90:\n",
        "    number_of_scores_A = number_of_scores_A + 1\n",
        "\n",
        "  total_score = total_score + score\n",
        "  count = count + 1\n",
        "  average = total_score / count\n",
        "\n",
        "  input_score = input(\"Enter test scores\")\n",
        "  score = int(input_score)\n",
        "\n",
        "print(\"Number of the scores A: {}\".format(number_of_scores_A))\n",
        "print(\"Average: {}\".format(average))"
      ]
    },
    {
      "cell_type": "markdown",
      "metadata": {
        "id": "IHIWc5jHAwxY"
      },
      "source": [
        "Ex 4: Write a program that asks the user for a string and a letter. Using a for loop, the\n",
        "program should print the index of the first occurrence of that letter and a message if the\n",
        "string does not contain the letter."
      ]
    },
    {
      "cell_type": "code",
      "execution_count": 19,
      "metadata": {
        "id": "xSe0mtQ8A68M",
        "colab": {
          "base_uri": "https://localhost:8080/"
        },
        "outputId": "87038657-f030-4d2c-f502-143ff53a25ab"
      },
      "outputs": [
        {
          "output_type": "stream",
          "name": "stdout",
          "text": [
            "Enter a string: test\n",
            "Enter a letter: a\n",
            "The string does not contain the letter\n"
          ]
        }
      ],
      "source": [
        "input_str = input(\"Enter a string: \")\n",
        "input_letter = input(\"Enter a letter: \")\n",
        "\n",
        "for i in range(len(input_str)):\n",
        "  if input_str[i] == input_letter:\n",
        "    print(\"The index of the first occurrence of {} letter is {}\".format(input_letter, i))\n",
        "    break\n",
        "\n",
        "else:\n",
        "  print(\"The string does not contain the letter\")"
      ]
    },
    {
      "cell_type": "markdown",
      "metadata": {
        "id": "PfyUq4CnA8vk"
      },
      "source": [
        "Ex 5: Write a program in which you have a list that contains seven integers that can be 0 or 1. Find the first zero entry in the list and change it to a 1. If there are no zero entries, print a message saying so."
      ]
    },
    {
      "cell_type": "code",
      "execution_count": 26,
      "metadata": {
        "id": "NOWxN7bpOaXQ",
        "colab": {
          "base_uri": "https://localhost:8080/"
        },
        "outputId": "3f9354b5-2ddf-4c2c-e05e-daaac6d23ac4"
      },
      "outputs": [
        {
          "output_type": "stream",
          "name": "stdout",
          "text": [
            "Find the first zero entry in the list at  3\n",
            "Updated List:  [1, 1, 1, 1, 0, 1, 1]\n"
          ]
        }
      ],
      "source": [
        "ls = [1, 1, 1, 0, 0, 1, 1]\n",
        "found_zero = False\n",
        "\n",
        "for i in range(len(ls)):\n",
        "  if ls[i] == 0:\n",
        "    ls[i] = 1\n",
        "    found_zero = True\n",
        "    print(\"Find the first zero entry in the list at \", i)\n",
        "    break\n",
        "\n",
        "if found_zero == False:\n",
        "  print(\"There are no zero entries.\")\n",
        "\n",
        "print(\"Updated List: \", ls)"
      ]
    }
  ],
  "metadata": {
    "colab": {
      "provenance": [],
      "include_colab_link": true
    },
    "kernelspec": {
      "display_name": "Python 3",
      "name": "python3"
    },
    "language_info": {
      "codemirror_mode": {
        "name": "ipython",
        "version": 3
      },
      "file_extension": ".py",
      "mimetype": "text/x-python",
      "name": "python",
      "nbconvert_exporter": "python",
      "pygments_lexer": "ipython3",
      "version": "3.12.1"
    }
  },
  "nbformat": 4,
  "nbformat_minor": 0
}