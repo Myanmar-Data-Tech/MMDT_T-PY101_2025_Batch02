{
  "cells": [
    {
      "cell_type": "markdown",
      "metadata": {
        "colab_type": "text",
        "id": "view-in-github"
      },
      "source": [
        "<a href=\"https://colab.research.google.com/github/myothida/PythonProgramming/blob/main/Ex4_Looping.ipynb\" target=\"_parent\"><img src=\"https://colab.research.google.com/assets/colab-badge.svg\" alt=\"Open In Colab\"/></a>"
      ]
    },
    {
      "cell_type": "markdown",
      "metadata": {
        "id": "YeTHwB3EASGn"
      },
      "source": [
        "The exercises are extracted from A_Practical_Introduction_to_Python_Programming_Heinold.pdf"
      ]
    },
    {
      "cell_type": "markdown",
      "metadata": {
        "id": "wVOW5QDgAZ_R"
      },
      "source": [
        "Ex 1: Write a program that uses a while loop (not a for loop) to read through a string and print\n",
        "the characters of the string one-by-one on separate lines."
      ]
    },
    {
      "cell_type": "code",
      "execution_count": 4,
      "metadata": {
        "id": "77KGqP-sJJNh"
      },
      "outputs": [
        {
          "name": "stdout",
          "output_type": "stream",
          "text": [
            "h\n",
            "e\n",
            "l\n",
            "l\n",
            "o\n"
          ]
        }
      ],
      "source": [
        "usr_str = 'hello'\n",
        "i = 0\n",
        "while i < len(usr_str):\n",
        "    print(usr_str[i])\n",
        "    i += 1"
      ]
    },
    {
      "cell_type": "markdown",
      "metadata": {
        "id": "5B-LyYV0AkCK"
      },
      "source": [
        "Ex 2: A good program will make sure that the data its users enter is valid. Write a program that\n",
        "asks the user for a weight and converts it from kilograms to pounds. Whenever the user\n",
        "enters a weight below 0, the program should tell them that their entry is invalid and then ask\n",
        "them again to enter a weight. [Hint: Use a while loop, not an if statement]."
      ]
    },
    {
      "cell_type": "code",
      "execution_count": 13,
      "metadata": {
        "id": "gpRZnsXjArkF"
      },
      "outputs": [
        {
          "name": "stdout",
          "output_type": "stream",
          "text": [
            "your entry is invalid\n",
            "your entry is invalid\n",
            "your input weight 1.4 in kg equal to 3.08647167052 in pound\n"
          ]
        }
      ],
      "source": [
        "usr_weight = float(input(\"Enter weight in kg:\"))\n",
        "\n",
        "while usr_weight < 0:\n",
        "    print(\"your entry is invalid\")\n",
        "    usr_weight = float(input(\"Enter weight in kg:\"))\n",
        "    \n",
        "result  = usr_weight * 2.2046226218\n",
        "print (\"your input weight {} in kg equal to {} in pound\".format(usr_weight,result))"
      ]
    },
    {
      "cell_type": "markdown",
      "metadata": {
        "id": "zQT0pCjRAsIK"
      },
      "source": [
        "Ex 3: Write a program that allows the user to enter any number of test scores. The user indicates\n",
        "they are done by entering in a negative number. Print how many of the scores are A’s (90 or\n",
        "above). Also print out the average"
      ]
    },
    {
      "cell_type": "code",
      "execution_count": null,
      "metadata": {
        "id": "Gya-rvYUAviK"
      },
      "outputs": [
        {
          "name": "stdout",
          "output_type": "stream",
          "text": [
            "number of A scores (90 or above) 2\n",
            "total scores = 269\n",
            "average scores = 89.66666666666667\n"
          ]
        }
      ],
      "source": [
        "usr_marks = int(input(\"Enter test scores:\"))\n",
        "howmany_A = 0\n",
        "count = 0\n",
        "total = 0\n",
        "while usr_marks >= 0:\n",
        "    if usr_marks >=90:\n",
        "        howmany_A += 1\n",
        "    total += usr_marks\n",
        "    count += 1\n",
        "    usr_marks = int(input(\"Enter test scores: if you enter negative number, program will exit\"))\n",
        "\n",
        "if count > 0:\n",
        "    print(f\"number of A scores (90 or above) {howmany_A}\")\n",
        "    print(f\"total scores = {total}\")\n",
        "    print(f\"average scores = {total/count}\")\n",
        "\n",
        "    "
      ]
    },
    {
      "cell_type": "markdown",
      "metadata": {
        "id": "IHIWc5jHAwxY"
      },
      "source": [
        "Ex 4: Write a program that asks the user for a string and a letter. Using a for loop, the\n",
        "program should print the index of the first occurrence of that letter and a message if the\n",
        "string does not contain the letter."
      ]
    },
    {
      "cell_type": "code",
      "execution_count": 21,
      "metadata": {
        "id": "xSe0mtQ8A68M"
      },
      "outputs": [
        {
          "name": "stdout",
          "output_type": "stream",
          "text": [
            "index of the first occurence of your input letter in your string = 2\n"
          ]
        }
      ],
      "source": [
        "usr_string = input(\"Enter your string:\")\n",
        "usr_letter = input(\"Enter a single letter\")\n",
        "index = 0\n",
        "\n",
        "for i in usr_string:\n",
        "    if usr_letter == i:\n",
        "        print(f\"index of the first occurence of your input letter in your string = {index}\")\n",
        "        break\n",
        "    index += 1\n",
        "    "
      ]
    },
    {
      "cell_type": "markdown",
      "metadata": {
        "id": "PfyUq4CnA8vk"
      },
      "source": [
        "Ex 5: Write a program in which you have a list that contains seven integers that can be 0 or 1. Find the first zero entry in the list and change it to a 1. If there are no zero entries, print a message saying so."
      ]
    },
    {
      "cell_type": "code",
      "execution_count": 78,
      "metadata": {},
      "outputs": [
        {
          "name": "stdout",
          "output_type": "stream",
          "text": [
            "1st zero found on index 3 of [1, 1, 1, 0, 1, 1, 0] and replace 1st occurance with 1\n",
            "[1, 1, 1, 1, 1, 1, 0]\n"
          ]
        }
      ],
      "source": [
        "ori_my_list = [1,1,1,0,1,1,0]\n",
        "for i,j in enumerate(ori_my_list):\n",
        "    if j == 0:\n",
        "        break\n",
        "if j == 0:\n",
        "    new_my_list = ori_my_list.copy()\n",
        "    new_my_list[i] = 1\n",
        "    print(f\"1st zero found on index {i} of {ori_my_list} and replace 1st occurance with 1\")\n",
        "    print(new_my_list)\n",
        "elif j!=0:\n",
        "    print(\"no zero found\")\n",
        "\n"
      ]
    }
  ],
  "metadata": {
    "colab": {
      "authorship_tag": "ABX9TyOm3U7ihfZeEceAaZW842Wb",
      "include_colab_link": true,
      "name": "Ex4_Looping.ipynb",
      "provenance": []
    },
    "kernelspec": {
      "display_name": "Python 3",
      "language": "python",
      "name": "python3"
    },
    "language_info": {
      "codemirror_mode": {
        "name": "ipython",
        "version": 3
      },
      "file_extension": ".py",
      "mimetype": "text/x-python",
      "name": "python",
      "nbconvert_exporter": "python",
      "pygments_lexer": "ipython3",
      "version": "3.10.11"
    }
  },
  "nbformat": 4,
  "nbformat_minor": 0
}
