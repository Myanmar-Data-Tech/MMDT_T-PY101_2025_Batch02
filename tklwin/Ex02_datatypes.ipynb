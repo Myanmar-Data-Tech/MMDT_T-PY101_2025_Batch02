{
 "cells": [
  {
   "cell_type": "markdown",
   "metadata": {
    "colab_type": "text",
    "id": "view-in-github"
   },
   "source": [
    "<a href=\"https://colab.research.google.com/github/myothida/PythonProgramming/blob/main/Ex_2_datatypes.ipynb\" target=\"_parent\"><img src=\"https://colab.research.google.com/assets/colab-badge.svg\" alt=\"Open In Colab\"/></a>"
   ]
  },
  {
   "cell_type": "markdown",
   "metadata": {
    "id": "X_Unw3z9u2-7"
   },
   "source": [
    "Ex 1 : Check the lenght of the string \"My name is python\""
   ]
  },
  {
   "cell_type": "code",
   "execution_count": 4,
   "metadata": {},
   "outputs": [
    {
     "name": "stdout",
     "output_type": "stream",
     "text": [
      "Length of the string :17\n"
     ]
    }
   ],
   "source": [
    "my_string = \"My name is python\"\n",
    "print(\"Length of the string :{}\".format(len(my_string)))"
   ]
  },
  {
   "cell_type": "markdown",
   "metadata": {},
   "source": [
    "Ex 2: Check the number of times \"python\" (regardless of cases: PYTHON, python, Python\" appears in the paragraph : \"Floating-point values in Python are always done in double precision; hence, Python float types correspond to doubles in a C-like language.\""
   ]
  },
  {
   "cell_type": "code",
   "execution_count": 16,
   "metadata": {},
   "outputs": [
    {
     "name": "stdout",
     "output_type": "stream",
     "text": [
      "number of times (python) appeared in paragraph is -> 2\n"
     ]
    }
   ],
   "source": [
    "s = \"Floating-point values in Python are always done in double precision; hence, Python float types correspond to doubles in a C-like language.\"\n",
    "s_lower = s.lower()\n",
    "s_count = s_lower.count(\"python\")\n",
    "print(\"number of times (python) appeared in paragraph is -> {}\".format(s_count))"
   ]
  },
  {
   "cell_type": "markdown",
   "metadata": {},
   "source": [
    "Ex 3: Combine two lists : ls1 = [\"apple\", \"banana\", \"cherry\"] and ls2 = [\"apple\", \"banana\", \"cherry\", \"apple\", \"cherry\"]. Print the number of elements in new list. "
   ]
  },
  {
   "cell_type": "code",
   "execution_count": 18,
   "metadata": {},
   "outputs": [
    {
     "name": "stdout",
     "output_type": "stream",
     "text": [
      "Number of elements in new list: 8\n"
     ]
    }
   ],
   "source": [
    "ls1 = [\"apple\", \"banana\", \"cherry\"] \n",
    "ls2 = [\"apple\", \"banana\", \"cherry\", \"apple\", \"cherry\"]\n",
    "ls = ls1 + ls2\n",
    "print(\"Number of elements in new list: {}\".format(len(ls)))"
   ]
  },
  {
   "cell_type": "markdown",
   "metadata": {},
   "source": [
    "Ex 4: Create a dictionary for the following table: "
   ]
  },
  {
   "cell_type": "markdown",
   "metadata": {},
   "source": [
    "| Name | Age | \n",
    "| --- | --- | \n",
    "| Myo | 32 |\n",
    "| Thida | 64 |"
   ]
  },
  {
   "cell_type": "code",
   "execution_count": 25,
   "metadata": {},
   "outputs": [
    {
     "name": "stdout",
     "output_type": "stream",
     "text": [
      "{'Name': ['Myo', 'Thida'], 'Age': [32, 64]}\n"
     ]
    }
   ],
   "source": [
    "personal = {\"Name\":[\"Myo\", \"Thida\"], \"Age\": [32, 64]}\n",
    "print (personal)"
   ]
  },
  {
   "cell_type": "markdown",
   "metadata": {},
   "source": [
    "Ex 5: Combine two sets and print the combined set and its length. \n",
    "set1 = {\"Name\", \"age\", \"Height\"}\n",
    "set2 = {\"Name\", \"status\", \"Education\"}"
   ]
  },
  {
   "cell_type": "code",
   "execution_count": 30,
   "metadata": {},
   "outputs": [
    {
     "name": "stdout",
     "output_type": "stream",
     "text": [
      "{'Education', 'status', 'Height', 'Name', 'age'}\n",
      "Length of combined set: 5\n"
     ]
    }
   ],
   "source": [
    "set1 = {\"Name\", \"age\", \"Height\"}\n",
    "set2 = {\"Name\", \"status\", \"Education\"}\n",
    "combined_set = set1.union(set2)\n",
    "print(combined_set)\n",
    "print(\"Length of combined set: {}\".format(len(combined_set)))"
   ]
  },
  {
   "cell_type": "markdown",
   "metadata": {},
   "source": [
    "Ex 6: Write a program that asks the user to enter a string. The program should create a new string called new_string from the user's string such that the second character is changed to an asterisk and three exclamation points are attached to the end of the string. Finally, print new_string. "
   ]
  },
  {
   "cell_type": "code",
   "execution_count": 39,
   "metadata": {},
   "outputs": [
    {
     "name": "stdout",
     "output_type": "stream",
     "text": [
      "h*llo!!!\n"
     ]
    }
   ],
   "source": [
    "my_str = input(\"Enter string input: \")\n",
    "new_str = my_str.replace(my_str[1],\"*\")+\"!!!\"\n",
    "print(new_str)\n",
    "\n"
   ]
  },
  {
   "cell_type": "markdown",
   "metadata": {},
   "source": [
    "Ex 7: Write a program that converts the given string 's' to lowercase, removes all Punctuation marks such as period, hyphen, and commas from 's', and prints the resulting string."
   ]
  },
  {
   "cell_type": "code",
   "execution_count": 42,
   "metadata": {},
   "outputs": [
    {
     "name": "stdout",
     "output_type": "stream",
     "text": [
      "floatingpoint values in python are always done in double precision hence python float types correspond to doubles in a clike language\n"
     ]
    }
   ],
   "source": [
    "s = \"Floating-point values in Python are always done in double precision; hence, Python float types correspond to doubles in a C-like language.\"\n",
    "s_low = s.lower()\n",
    "s_low = s_low.replace(\".\",\"\")\n",
    "s_low = s_low.replace(\"-\",\"\")\n",
    "s_low = s_low.replace(\",\",\"\")\n",
    "s_low = s_low.replace(\";\",\"\")\n",
    "print(s_low)\n",
    "\n"
   ]
  },
  {
   "cell_type": "markdown",
   "metadata": {},
   "source": [
    "Ex 8: L1 and L2 should be identical. Write a program that finds the missing number in L2. "
   ]
  },
  {
   "cell_type": "code",
   "execution_count": 50,
   "metadata": {},
   "outputs": [
    {
     "name": "stdout",
     "output_type": "stream",
     "text": [
      "Missing Number in L2 is\n",
      "{91}\n"
     ]
    }
   ],
   "source": [
    "from random import randint\n",
    "L1 = list(range(1,101))\n",
    "L2 = L1.copy()\n",
    "L2.remove(randint(1,101))\n",
    "\n",
    "S1 = set(L1)\n",
    "S2 = set(L2)\n",
    "missing = S1.difference(S2)\n",
    "print(\"Missing Number in L2 is\")\n",
    "print(missing)\n",
    "\n"
   ]
  },
  {
   "cell_type": "markdown",
   "metadata": {},
   "source": [
    "Ex 9: Write a program to copy the ls1 = [\"apple\", \"banana\", \"cherry\"] to a new list. Add the element \"blueberry\" to the new list, but keep the original list the same. "
   ]
  },
  {
   "cell_type": "code",
   "execution_count": 63,
   "metadata": {},
   "outputs": [
    {
     "data": {
      "text/plain": [
       "['apple', 'banana', 'cherry', 'blueberry']"
      ]
     },
     "execution_count": 63,
     "metadata": {},
     "output_type": "execute_result"
    }
   ],
   "source": [
    "ls1 = [\"apple\", \"banana\", \"cherry\"]\n",
    "new_list = ls1.copy()\n",
    "new_list.append(\"blueberry\")\n",
    "new_list\n"
   ]
  }
 ],
 "metadata": {
  "colab": {
   "authorship_tag": "ABX9TyMRiET2AmIIzpj2LeD8ccas",
   "include_colab_link": true,
   "name": "Ex_2_datatypes.ipynb",
   "provenance": []
  },
  "kernelspec": {
   "display_name": "Python 3",
   "language": "python",
   "name": "python3"
  },
  "language_info": {
   "codemirror_mode": {
    "name": "ipython",
    "version": 3
   },
   "file_extension": ".py",
   "mimetype": "text/x-python",
   "name": "python",
   "nbconvert_exporter": "python",
   "pygments_lexer": "ipython3",
   "version": "3.10.11"
  }
 },
 "nbformat": 4,
 "nbformat_minor": 1
}
